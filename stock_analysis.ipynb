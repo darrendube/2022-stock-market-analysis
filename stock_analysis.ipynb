{
 "cells": [
  {
   "cell_type": "markdown",
   "metadata": {
    "collapsed": false
   },
   "source": [
    "# US 2022 Stock Market Analysis"
   ]
  },
  {
   "cell_type": "markdown",
   "metadata": {
    "collapsed": false
   },
   "source": [
    "In this notebook, I will attempt to investigate how the various sectors of the US economy performed on the stock market in 2022 by creating a market cap-weighted index of each sector, and plotting its returns over the year.\n",
    "\n",
    "The stocks are classified into these sectors according to the Global Industry Classification  Standard (GICS):\n",
    "- Communication Services\n",
    "- Consumer Discretionary\n",
    "- Consumer Staples\n",
    "- Energy\n",
    "- Financials\n",
    "- Healthcare\n",
    "- Industrials \n",
    "- Information Technology\n",
    "- Materials\n",
    "- Real Estate\n",
    "- Utilities\n"
   ]
  },
  {
   "cell_type": "code",
   "execution_count": 141,
   "metadata": {
    "ExecuteTime": {
     "end_time": "2023-10-18T20:40:07.868608435Z",
     "start_time": "2023-10-18T20:40:06.913236410Z"
    },
    "collapsed": false
   },
   "outputs": [],
   "source": [
    "import yfinance as yf\n",
    "import pandas as pd\n",
    "import os\n",
    "import numpy as np\n",
    "import matplotlib.pyplot as plt\n",
    "import warnings"
   ]
  },
  {
   "cell_type": "code",
   "execution_count": 142,
   "metadata": {},
   "outputs": [],
   "source": [
    "warnings.filterwarnings('ignore')"
   ]
  },
  {
   "cell_type": "markdown",
   "metadata": {
    "collapsed": false
   },
   "source": [
    "### Downloading stock data"
   ]
  },
  {
   "cell_type": "markdown",
   "metadata": {
    "collapsed": false
   },
   "source": [
    "I first had to get a table of all the stocks currently trading in the US. I downloaded the data below from the [NASDAQ Stock Screener](https://www.nasdaq.com/market-activity/stocks/screener)."
   ]
  },
  {
   "cell_type": "code",
   "execution_count": 2,
   "metadata": {
    "ExecuteTime": {
     "end_time": "2023-10-18T20:40:07.891053360Z",
     "start_time": "2023-10-18T20:40:07.855649702Z"
    },
    "collapsed": false
   },
   "outputs": [],
   "source": [
    "# Data from NASDAQ stock screener\n",
    "us_stocks = pd.read_csv('us_stocks.csv')"
   ]
  },
  {
   "cell_type": "code",
   "execution_count": 3,
   "metadata": {
    "ExecuteTime": {
     "end_time": "2023-10-18T20:40:08.236619143Z",
     "start_time": "2023-10-18T20:40:07.876136763Z"
    },
    "collapsed": false,
    "tags": [
     "hide-output"
    ]
   },
   "outputs": [],
   "source": [
    "%%capture\n",
    "us_stocks"
   ]
  },
  {
   "cell_type": "code",
   "execution_count": 4,
   "metadata": {
    "ExecuteTime": {
     "end_time": "2023-10-18T20:40:08.329489214Z",
     "start_time": "2023-10-18T20:40:08.235700619Z"
    },
    "collapsed": false
   },
   "outputs": [],
   "source": [
    "us_stock_ticker_symbols = us_stocks['Symbol']"
   ]
  },
  {
   "cell_type": "markdown",
   "metadata": {
    "collapsed": false
   },
   "source": [
    "Next, I downloaded the 2022 price history of each stock, saving each in its own file in the folder `us_stocks`.\n",
    "This price data is from [Yahoo Finance](https://finance.yahoo.com), accessed through the `yfinance` library."
   ]
  },
  {
   "cell_type": "code",
   "execution_count": 5,
   "metadata": {
    "ExecuteTime": {
     "start_time": "2023-10-18T20:40:08.332073870Z"
    },
    "collapsed": false,
    "is_executing": true,
    "tags": []
   },
   "outputs": [],
   "source": [
    "%%capture\n",
    "tickers_loaded = []\n",
    "tickers_not_loaded = []\n",
    "for i in us_stock_ticker_symbols:\n",
    "    i = str(i) \n",
    "    ticker = i.replace('^', '-P')\n",
    "    # Make sure there is no error associated with downloading the stock data\n",
    "    try:\n",
    "        data = yf.download(ticker, start='2022-01-01', end='2022-12-31')\n",
    "    except:\n",
    "        tickers_not_loaded += [ticker]\n",
    "        continue\n",
    "    # Make sure ticker was traded on all trading days in 2022\n",
    "    # Also takes care of tickers that failed to download but did not raise an exception\n",
    "    if len(data) != 251:\n",
    "        tickers_not_loaded += [ticker]\n",
    "        continue\n",
    "    # / character is not allowed in file names\n",
    "    file_name = ticker.replace('/','{slash}')\n",
    "    data.to_csv(f'stock_data/{file_name}.csv')\n",
    "    tickers_loaded += [ticker]"
   ]
  },
  {
   "cell_type": "code",
   "execution_count": 6,
   "metadata": {
    "collapsed": false,
    "is_executing": true
   },
   "outputs": [],
   "source": [
    "# Data of tickers that managed to load and tickers that did not. Needs to be changed to DataFrame to make using it easier\n",
    "tickers_loaded = pd.DataFrame(tickers_loaded, columns=['Symbol'])\n",
    "tickers_not_loaded = pd.DataFrame(tickers_not_loaded, columns=['Symbol'])"
   ]
  },
  {
   "cell_type": "markdown",
   "metadata": {
    "collapsed": false
   },
   "source": [
    "I need to replace '^' (found in NASDAQ stock tickers) with '-P' (found in Yahoo finance stock tickers). I also need to replace any '/' found in the ticker name with '{slash}' (as / is not allowed in file name)>"
   ]
  },
  {
   "cell_type": "code",
   "execution_count": 7,
   "metadata": {
    "collapsed": false,
    "is_executing": true
   },
   "outputs": [],
   "source": [
    "us_stocks['Symbol'] = us_stocks['Symbol'].replace({'\\^': '-P'}, regex=True)\n",
    "us_stocks['Symbol'] = us_stocks['Symbol'].replace({'/': '{slash}'}, regex=True)"
   ]
  },
  {
   "cell_type": "markdown",
   "metadata": {
    "collapsed": false
   },
   "source": [
    "### Cleaning up data (mostly renaming of Sectors"
   ]
  },
  {
   "cell_type": "markdown",
   "metadata": {
    "collapsed": false
   },
   "source": [
    "In this section, I clean up the data, making sure each stock has a Sector and Market Cap, and the Sector names are in line with the Global Industry Classification Standard (GICS)."
   ]
  },
  {
   "cell_type": "code",
   "execution_count": 8,
   "metadata": {
    "collapsed": false,
    "is_executing": true
   },
   "outputs": [],
   "source": [
    "# The breakdown of sectors according to NASDAQ\n",
    "sectors = pd.DataFrame(us_stocks.groupby('Sector').count().index)"
   ]
  },
  {
   "cell_type": "code",
   "execution_count": 9,
   "metadata": {
    "collapsed": false,
    "is_executing": true
   },
   "outputs": [
    {
     "data": {
      "text/html": [
       "<div>\n",
       "<style scoped>\n",
       "    .dataframe tbody tr th:only-of-type {\n",
       "        vertical-align: middle;\n",
       "    }\n",
       "\n",
       "    .dataframe tbody tr th {\n",
       "        vertical-align: top;\n",
       "    }\n",
       "\n",
       "    .dataframe thead th {\n",
       "        text-align: right;\n",
       "    }\n",
       "</style>\n",
       "<table border=\"1\" class=\"dataframe\">\n",
       "  <thead>\n",
       "    <tr style=\"text-align: right;\">\n",
       "      <th></th>\n",
       "      <th>Sector</th>\n",
       "    </tr>\n",
       "  </thead>\n",
       "  <tbody>\n",
       "    <tr>\n",
       "      <th>0</th>\n",
       "      <td>Communication Services</td>\n",
       "    </tr>\n",
       "    <tr>\n",
       "      <th>1</th>\n",
       "      <td>Consumer Discretionary</td>\n",
       "    </tr>\n",
       "    <tr>\n",
       "      <th>2</th>\n",
       "      <td>Consumer Staples</td>\n",
       "    </tr>\n",
       "    <tr>\n",
       "      <th>3</th>\n",
       "      <td>Energy</td>\n",
       "    </tr>\n",
       "    <tr>\n",
       "      <th>4</th>\n",
       "      <td>Financials</td>\n",
       "    </tr>\n",
       "    <tr>\n",
       "      <th>5</th>\n",
       "      <td>Healthcare</td>\n",
       "    </tr>\n",
       "    <tr>\n",
       "      <th>6</th>\n",
       "      <td>Industrials</td>\n",
       "    </tr>\n",
       "    <tr>\n",
       "      <th>7</th>\n",
       "      <td>Information Technology</td>\n",
       "    </tr>\n",
       "    <tr>\n",
       "      <th>8</th>\n",
       "      <td>Materials</td>\n",
       "    </tr>\n",
       "    <tr>\n",
       "      <th>9</th>\n",
       "      <td>Real Estate</td>\n",
       "    </tr>\n",
       "    <tr>\n",
       "      <th>10</th>\n",
       "      <td>Utilities</td>\n",
       "    </tr>\n",
       "  </tbody>\n",
       "</table>\n",
       "</div>"
      ],
      "text/plain": [
       "                    Sector\n",
       "0   Communication Services\n",
       "1   Consumer Discretionary\n",
       "2         Consumer Staples\n",
       "3                   Energy\n",
       "4               Financials\n",
       "5               Healthcare\n",
       "6              Industrials\n",
       "7   Information Technology\n",
       "8                Materials\n",
       "9              Real Estate\n",
       "10               Utilities"
      ]
     },
     "execution_count": 9,
     "metadata": {},
     "output_type": "execute_result"
    }
   ],
   "source": [
    "sectors"
   ]
  },
  {
   "cell_type": "code",
   "execution_count": 10,
   "metadata": {
    "collapsed": false,
    "is_executing": true
   },
   "outputs": [
    {
     "data": {
      "text/html": [
       "<div>\n",
       "<style scoped>\n",
       "    .dataframe tbody tr th:only-of-type {\n",
       "        vertical-align: middle;\n",
       "    }\n",
       "\n",
       "    .dataframe tbody tr th {\n",
       "        vertical-align: top;\n",
       "    }\n",
       "\n",
       "    .dataframe thead th {\n",
       "        text-align: right;\n",
       "    }\n",
       "</style>\n",
       "<table border=\"1\" class=\"dataframe\">\n",
       "  <thead>\n",
       "    <tr style=\"text-align: right;\">\n",
       "      <th></th>\n",
       "      <th>Unnamed: 0.1</th>\n",
       "      <th>level_0</th>\n",
       "      <th>Unnamed: 0</th>\n",
       "      <th>index</th>\n",
       "      <th>Symbol</th>\n",
       "      <th>Name</th>\n",
       "      <th>Market Cap</th>\n",
       "      <th>Sector</th>\n",
       "    </tr>\n",
       "  </thead>\n",
       "  <tbody>\n",
       "  </tbody>\n",
       "</table>\n",
       "</div>"
      ],
      "text/plain": [
       "Empty DataFrame\n",
       "Columns: [Unnamed: 0.1, level_0, Unnamed: 0, index, Symbol, Name, Market Cap, Sector]\n",
       "Index: []"
      ]
     },
     "execution_count": 10,
     "metadata": {},
     "output_type": "execute_result"
    }
   ],
   "source": [
    "us_stocks[us_stocks['Sector']=='Miscellaneous']"
   ]
  },
  {
   "cell_type": "code",
   "execution_count": 11,
   "metadata": {
    "collapsed": false,
    "is_executing": true
   },
   "outputs": [],
   "source": [
    "indexes_to_drop = list(us_stocks[us_stocks['Symbol'].isin(tickers_not_loaded['Symbol'])].index)"
   ]
  },
  {
   "cell_type": "code",
   "execution_count": 12,
   "metadata": {
    "collapsed": false,
    "is_executing": true
   },
   "outputs": [],
   "source": [
    "us_stocks.drop(indexes_to_drop, inplace=True)"
   ]
  },
  {
   "cell_type": "code",
   "execution_count": 13,
   "metadata": {
    "collapsed": false,
    "is_executing": true
   },
   "outputs": [
    {
     "data": {
      "text/html": [
       "<div>\n",
       "<style scoped>\n",
       "    .dataframe tbody tr th:only-of-type {\n",
       "        vertical-align: middle;\n",
       "    }\n",
       "\n",
       "    .dataframe tbody tr th {\n",
       "        vertical-align: top;\n",
       "    }\n",
       "\n",
       "    .dataframe thead th {\n",
       "        text-align: right;\n",
       "    }\n",
       "</style>\n",
       "<table border=\"1\" class=\"dataframe\">\n",
       "  <thead>\n",
       "    <tr style=\"text-align: right;\">\n",
       "      <th></th>\n",
       "      <th>Unnamed: 0.1</th>\n",
       "      <th>level_0</th>\n",
       "      <th>Unnamed: 0</th>\n",
       "      <th>index</th>\n",
       "      <th>Symbol</th>\n",
       "      <th>Name</th>\n",
       "      <th>Market Cap</th>\n",
       "      <th>Sector</th>\n",
       "    </tr>\n",
       "  </thead>\n",
       "  <tbody>\n",
       "  </tbody>\n",
       "</table>\n",
       "</div>"
      ],
      "text/plain": [
       "Empty DataFrame\n",
       "Columns: [Unnamed: 0.1, level_0, Unnamed: 0, index, Symbol, Name, Market Cap, Sector]\n",
       "Index: []"
      ]
     },
     "execution_count": 13,
     "metadata": {},
     "output_type": "execute_result"
    }
   ],
   "source": [
    "# checking which tickers have a sector marked as Miscellaneous\n",
    "us_stocks[us_stocks['Sector']=='Miscellaneous']"
   ]
  },
  {
   "cell_type": "code",
   "execution_count": 14,
   "metadata": {
    "collapsed": false,
    "is_executing": true
   },
   "outputs": [
    {
     "data": {
      "text/html": [
       "<div>\n",
       "<style scoped>\n",
       "    .dataframe tbody tr th:only-of-type {\n",
       "        vertical-align: middle;\n",
       "    }\n",
       "\n",
       "    .dataframe tbody tr th {\n",
       "        vertical-align: top;\n",
       "    }\n",
       "\n",
       "    .dataframe thead th {\n",
       "        text-align: right;\n",
       "    }\n",
       "</style>\n",
       "<table border=\"1\" class=\"dataframe\">\n",
       "  <thead>\n",
       "    <tr style=\"text-align: right;\">\n",
       "      <th></th>\n",
       "      <th>Unnamed: 0.1</th>\n",
       "      <th>level_0</th>\n",
       "      <th>Unnamed: 0</th>\n",
       "      <th>index</th>\n",
       "      <th>Symbol</th>\n",
       "      <th>Name</th>\n",
       "      <th>Market Cap</th>\n",
       "      <th>Sector</th>\n",
       "    </tr>\n",
       "  </thead>\n",
       "  <tbody>\n",
       "  </tbody>\n",
       "</table>\n",
       "</div>"
      ],
      "text/plain": [
       "Empty DataFrame\n",
       "Columns: [Unnamed: 0.1, level_0, Unnamed: 0, index, Symbol, Name, Market Cap, Sector]\n",
       "Index: []"
      ]
     },
     "execution_count": 14,
     "metadata": {},
     "output_type": "execute_result"
    }
   ],
   "source": [
    "# checking which ickers have missing sectors\n",
    "us_stocks[us_stocks['Sector'].isna()]"
   ]
  },
  {
   "cell_type": "code",
   "execution_count": 15,
   "metadata": {
    "collapsed": false,
    "is_executing": true
   },
   "outputs": [],
   "source": [
    "# Attempt to assign sector to tickers that have no sector\n",
    "for i in range(len(us_stocks)):\n",
    "    if pd.isnull(us_stocks.iloc[i]['Sector']):\n",
    "        # check if it is a variant of an existing stock\n",
    "        if ('-P' in us_stocks.iloc[i]['Symbol']) & (us_stocks.iloc[i]['Symbol'].split('-')[0] in us_stocks['Symbol'].values ):\n",
    "            us_stocks.at[i,'Sector'] = str(us_stocks[us_stocks['Symbol']==us_stocks.iloc[i]['Symbol'].split('-')[0]]['Sector'].values[0])\n",
    "            continue\n",
    "\n",
    "        # get  sector classification from yahoo finance\n",
    "        stock_yf_data = yf.Ticker(us_stocks.iloc[i]['Symbol']).info\n",
    "        if 'sector' in stock_yf_data.keys():\n",
    "            us_stocks.at[i,'Sector'] = stock_yf_data['sector']\n",
    "\n"
   ]
  },
  {
   "cell_type": "code",
   "execution_count": 16,
   "metadata": {
    "collapsed": false,
    "is_executing": true
   },
   "outputs": [
    {
     "data": {
      "text/html": [
       "<div>\n",
       "<style scoped>\n",
       "    .dataframe tbody tr th:only-of-type {\n",
       "        vertical-align: middle;\n",
       "    }\n",
       "\n",
       "    .dataframe tbody tr th {\n",
       "        vertical-align: top;\n",
       "    }\n",
       "\n",
       "    .dataframe thead th {\n",
       "        text-align: right;\n",
       "    }\n",
       "</style>\n",
       "<table border=\"1\" class=\"dataframe\">\n",
       "  <thead>\n",
       "    <tr style=\"text-align: right;\">\n",
       "      <th></th>\n",
       "      <th>Unnamed: 0.1</th>\n",
       "      <th>level_0</th>\n",
       "      <th>Unnamed: 0</th>\n",
       "      <th>index</th>\n",
       "      <th>Symbol</th>\n",
       "      <th>Name</th>\n",
       "      <th>Market Cap</th>\n",
       "      <th>Sector</th>\n",
       "    </tr>\n",
       "  </thead>\n",
       "  <tbody>\n",
       "  </tbody>\n",
       "</table>\n",
       "</div>"
      ],
      "text/plain": [
       "Empty DataFrame\n",
       "Columns: [Unnamed: 0.1, level_0, Unnamed: 0, index, Symbol, Name, Market Cap, Sector]\n",
       "Index: []"
      ]
     },
     "execution_count": 16,
     "metadata": {},
     "output_type": "execute_result"
    }
   ],
   "source": [
    "# The stocks with sectors still missing\n",
    "us_stocks[us_stocks['Sector'].isna() | us_stocks['Sector']=='Miscellaneous']"
   ]
  },
  {
   "cell_type": "code",
   "execution_count": 17,
   "metadata": {
    "collapsed": false,
    "is_executing": true
   },
   "outputs": [],
   "source": [
    "# Mannually replacing the remaining missing sectors\n",
    "us_stocks.at[83,'Sector'] = 'Industrials'\n",
    "us_stocks.at[102,'Sector'] = 'Utilities' # check if this is true\n",
    "us_stocks.at[292,'Sector'] = 'Finance'\n",
    "us_stocks.at[391,'Sector'] = 'Technology'\n",
    "us_stocks.at[498,'Sector'] = 'Industrials'\n",
    "us_stocks.at[639,'Sector'] = 'Consumer Discretionary'\n",
    "us_stocks.at[931,'Sector'] = 'Industrials'\n",
    "us_stocks.at[1120,'Sector'] = 'Consumer Discretionary'\n",
    "us_stocks.at[1774,'Sector'] = 'Industrials'\n",
    "us_stocks.at[1787,'Sector'] = 'Industrials'\n",
    "us_stocks.at[1794,'Sector'] = 'Industrials'\n",
    "us_stocks.at[1795,'Sector'] = 'Industrials'\n",
    "us_stocks.at[2033,'Sector'] = 'Utilities'\n",
    "us_stocks.at[2039,'Sector'] = 'Industrials'\n",
    "us_stocks.at[2093,'Sector'] = 'Consumer Discretionary'\n",
    "us_stocks.at[2094,'Sector'] = 'Consumer Discretionary'\n",
    "us_stocks.at[2402,'Sector'] = 'Industrials'\n",
    "us_stocks.at[2887,'Sector'] = 'Health Care'\n",
    "us_stocks.at[2958,'Sector'] = 'Health Care'\n",
    "us_stocks.at[3050,'Sector'] = 'Consumer Discretionary'\n",
    "us_stocks.at[3058,'Sector'] = 'Health Care'\n",
    "us_stocks.at[3571,'Sector'] = 'Technology'\n",
    "us_stocks.at[3592,'Sector'] = 'Industrials'\n",
    "us_stocks.at[3621,'Sector'] = 'Consumer Discretionary'\n",
    "us_stocks.at[3692,'Sector'] = 'Utilities'\n",
    "us_stocks.at[3721,'Sector'] = 'Industrials'\n",
    "us_stocks.at[3758,'Sector'] = 'Industrials'\n",
    "us_stocks.at[3968,'Sector'] = 'Technology'\n",
    "us_stocks.at[3993,'Sector'] = 'Industrials'\n",
    "us_stocks.at[4186,'Sector'] = 'Industrials'\n",
    "us_stocks.at[4542,'Sector'] = 'Technology'\n",
    "us_stocks.at[4612,'Sector'] = 'Consumer Discretionary'\n",
    "us_stocks.at[4874,'Sector'] = 'Consumer Staples'\n",
    "us_stocks.at[4986,'Sector'] = 'Technology'\n",
    "us_stocks.at[5335,'Sector'] = 'Industrials'\n",
    "us_stocks.at[5456,'Sector'] = 'Technology'\n",
    "us_stocks.at[5625,'Sector'] = 'Consumer Discretionary'\n",
    "us_stocks.at[5716,'Sector'] = 'Consumer Discretionary'\n",
    "us_stocks.at[99,'Sector'] = 'Financials'\n",
    "us_stocks.at[121,'Sector'] = 'Financials'\n",
    "us_stocks.at[1286,'Sector'] = 'Energy'\n",
    "us_stocks.at[1593,'Sector'] = 'Utilities'\n",
    "us_stocks.at[2529,'Sector'] = 'Financials'\n",
    "us_stocks.at[3163,'Sector'] = 'Utilities'\n",
    "us_stocks.at[3296,'Sector'] = 'Financials'\n",
    "us_stocks.at[3297,'Sector'] = 'Financials'\n",
    "us_stocks.at[4018,'Sector'] = 'Utilities'\n",
    "us_stocks.at[4021,'Sector'] = 'Utilities'\n",
    "us_stocks.at[4022,'Sector'] = 'Financials'"
   ]
  },
  {
   "cell_type": "code",
   "execution_count": 18,
   "metadata": {
    "collapsed": false,
    "is_executing": true
   },
   "outputs": [
    {
     "data": {
      "text/html": [
       "<div>\n",
       "<style scoped>\n",
       "    .dataframe tbody tr th:only-of-type {\n",
       "        vertical-align: middle;\n",
       "    }\n",
       "\n",
       "    .dataframe tbody tr th {\n",
       "        vertical-align: top;\n",
       "    }\n",
       "\n",
       "    .dataframe thead th {\n",
       "        text-align: right;\n",
       "    }\n",
       "</style>\n",
       "<table border=\"1\" class=\"dataframe\">\n",
       "  <thead>\n",
       "    <tr style=\"text-align: right;\">\n",
       "      <th></th>\n",
       "      <th>Unnamed: 0.1</th>\n",
       "      <th>level_0</th>\n",
       "      <th>Unnamed: 0</th>\n",
       "      <th>index</th>\n",
       "      <th>Symbol</th>\n",
       "      <th>Name</th>\n",
       "      <th>Market Cap</th>\n",
       "      <th>Sector</th>\n",
       "    </tr>\n",
       "  </thead>\n",
       "  <tbody>\n",
       "  </tbody>\n",
       "</table>\n",
       "</div>"
      ],
      "text/plain": [
       "Empty DataFrame\n",
       "Columns: [Unnamed: 0.1, level_0, Unnamed: 0, index, Symbol, Name, Market Cap, Sector]\n",
       "Index: []"
      ]
     },
     "execution_count": 18,
     "metadata": {},
     "output_type": "execute_result"
    }
   ],
   "source": [
    "us_stocks[us_stocks['Sector'].isna() | us_stocks['Sector']=='Miscellaneous']  # This confirms that no ticker has a missing sector"
   ]
  },
  {
   "cell_type": "code",
   "execution_count": 19,
   "metadata": {
    "collapsed": false,
    "is_executing": true
   },
   "outputs": [
    {
     "data": {
      "text/plain": [
       "0     Communication Services\n",
       "1     Consumer Discretionary\n",
       "2           Consumer Staples\n",
       "3                     Energy\n",
       "4                    Finance\n",
       "5                 Financials\n",
       "6                Health Care\n",
       "7                 Healthcare\n",
       "8                Industrials\n",
       "9     Information Technology\n",
       "10                 Materials\n",
       "11               Real Estate\n",
       "12                Technology\n",
       "13                 Utilities\n",
       "Name: Sector, dtype: object"
      ]
     },
     "execution_count": 19,
     "metadata": {},
     "output_type": "execute_result"
    }
   ],
   "source": [
    "sectors = pd.Series(us_stocks.groupby('Sector').count().index)\n",
    "sectors"
   ]
  },
  {
   "cell_type": "code",
   "execution_count": 20,
   "metadata": {
    "collapsed": false,
    "is_executing": true
   },
   "outputs": [],
   "source": [
    "# Rename sectors to GICS sector names\n",
    "us_stocks['Sector'].replace('Basic Materials','Materials', inplace=True)\n",
    "us_stocks['Sector'].replace('Health Care','Healthcare', inplace=True)\n",
    "us_stocks['Sector'].replace('Finance','Financials', inplace=True)\n",
    "us_stocks['Sector'].replace('Technology','Information Technology', inplace=True)\n",
    "us_stocks['Sector'].replace('Telecommunications','Communication Services', inplace=True)"
   ]
  },
  {
   "cell_type": "code",
   "execution_count": 21,
   "metadata": {
    "collapsed": false,
    "is_executing": true
   },
   "outputs": [
    {
     "data": {
      "text/plain": [
       "0     Communication Services\n",
       "1     Consumer Discretionary\n",
       "2           Consumer Staples\n",
       "3                     Energy\n",
       "4                 Financials\n",
       "5                 Healthcare\n",
       "6                Industrials\n",
       "7     Information Technology\n",
       "8                  Materials\n",
       "9                Real Estate\n",
       "10                 Utilities\n",
       "Name: Sector, dtype: object"
      ]
     },
     "execution_count": 21,
     "metadata": {},
     "output_type": "execute_result"
    }
   ],
   "source": [
    "sectors = pd.Series(us_stocks.groupby('Sector').count().index)\n",
    "sectors "
   ]
  },
  {
   "cell_type": "code",
   "execution_count": 22,
   "metadata": {
    "collapsed": false,
    "is_executing": true
   },
   "outputs": [],
   "source": [
    "# Rename sectors to their GICS names\n",
    "us_stocks['Sector'].replace('Consumer Cyclical','Consumer Discretionary', inplace=True)\n",
    "us_stocks['Sector'].replace('Consumer Defensive','Consumer Staples', inplace=True)\n",
    "us_stocks['Sector'].replace('Financial Services','Financials', inplace=True)\n",
    "us_stocks['Sector'].replace('Technology','Information Technology', inplace=True)\n",
    "us_stocks['Sector'].replace('Basic Materials','Materials', inplace=True)"
   ]
  },
  {
   "cell_type": "code",
   "execution_count": 23,
   "metadata": {
    "collapsed": false,
    "is_executing": true
   },
   "outputs": [
    {
     "data": {
      "text/html": [
       "<div>\n",
       "<style scoped>\n",
       "    .dataframe tbody tr th:only-of-type {\n",
       "        vertical-align: middle;\n",
       "    }\n",
       "\n",
       "    .dataframe tbody tr th {\n",
       "        vertical-align: top;\n",
       "    }\n",
       "\n",
       "    .dataframe thead th {\n",
       "        text-align: right;\n",
       "    }\n",
       "</style>\n",
       "<table border=\"1\" class=\"dataframe\">\n",
       "  <thead>\n",
       "    <tr style=\"text-align: right;\">\n",
       "      <th></th>\n",
       "      <th>Unnamed: 0.1</th>\n",
       "      <th>level_0</th>\n",
       "      <th>Unnamed: 0</th>\n",
       "      <th>index</th>\n",
       "      <th>Symbol</th>\n",
       "      <th>Name</th>\n",
       "      <th>Market Cap</th>\n",
       "      <th>Sector</th>\n",
       "    </tr>\n",
       "  </thead>\n",
       "  <tbody>\n",
       "    <tr>\n",
       "      <th>1774</th>\n",
       "      <td>NaN</td>\n",
       "      <td>NaN</td>\n",
       "      <td>NaN</td>\n",
       "      <td>NaN</td>\n",
       "      <td>NaN</td>\n",
       "      <td>NaN</td>\n",
       "      <td>NaN</td>\n",
       "      <td>Industrials</td>\n",
       "    </tr>\n",
       "    <tr>\n",
       "      <th>1787</th>\n",
       "      <td>NaN</td>\n",
       "      <td>NaN</td>\n",
       "      <td>NaN</td>\n",
       "      <td>NaN</td>\n",
       "      <td>NaN</td>\n",
       "      <td>NaN</td>\n",
       "      <td>NaN</td>\n",
       "      <td>Industrials</td>\n",
       "    </tr>\n",
       "    <tr>\n",
       "      <th>1794</th>\n",
       "      <td>NaN</td>\n",
       "      <td>NaN</td>\n",
       "      <td>NaN</td>\n",
       "      <td>NaN</td>\n",
       "      <td>NaN</td>\n",
       "      <td>NaN</td>\n",
       "      <td>NaN</td>\n",
       "      <td>Industrials</td>\n",
       "    </tr>\n",
       "    <tr>\n",
       "      <th>1795</th>\n",
       "      <td>NaN</td>\n",
       "      <td>NaN</td>\n",
       "      <td>NaN</td>\n",
       "      <td>NaN</td>\n",
       "      <td>NaN</td>\n",
       "      <td>NaN</td>\n",
       "      <td>NaN</td>\n",
       "      <td>Industrials</td>\n",
       "    </tr>\n",
       "    <tr>\n",
       "      <th>2033</th>\n",
       "      <td>NaN</td>\n",
       "      <td>NaN</td>\n",
       "      <td>NaN</td>\n",
       "      <td>NaN</td>\n",
       "      <td>NaN</td>\n",
       "      <td>NaN</td>\n",
       "      <td>NaN</td>\n",
       "      <td>Utilities</td>\n",
       "    </tr>\n",
       "    <tr>\n",
       "      <th>2039</th>\n",
       "      <td>NaN</td>\n",
       "      <td>NaN</td>\n",
       "      <td>NaN</td>\n",
       "      <td>NaN</td>\n",
       "      <td>NaN</td>\n",
       "      <td>NaN</td>\n",
       "      <td>NaN</td>\n",
       "      <td>Industrials</td>\n",
       "    </tr>\n",
       "    <tr>\n",
       "      <th>2093</th>\n",
       "      <td>NaN</td>\n",
       "      <td>NaN</td>\n",
       "      <td>NaN</td>\n",
       "      <td>NaN</td>\n",
       "      <td>NaN</td>\n",
       "      <td>NaN</td>\n",
       "      <td>NaN</td>\n",
       "      <td>Consumer Discretionary</td>\n",
       "    </tr>\n",
       "    <tr>\n",
       "      <th>2094</th>\n",
       "      <td>NaN</td>\n",
       "      <td>NaN</td>\n",
       "      <td>NaN</td>\n",
       "      <td>NaN</td>\n",
       "      <td>NaN</td>\n",
       "      <td>NaN</td>\n",
       "      <td>NaN</td>\n",
       "      <td>Consumer Discretionary</td>\n",
       "    </tr>\n",
       "    <tr>\n",
       "      <th>2402</th>\n",
       "      <td>NaN</td>\n",
       "      <td>NaN</td>\n",
       "      <td>NaN</td>\n",
       "      <td>NaN</td>\n",
       "      <td>NaN</td>\n",
       "      <td>NaN</td>\n",
       "      <td>NaN</td>\n",
       "      <td>Industrials</td>\n",
       "    </tr>\n",
       "    <tr>\n",
       "      <th>2887</th>\n",
       "      <td>NaN</td>\n",
       "      <td>NaN</td>\n",
       "      <td>NaN</td>\n",
       "      <td>NaN</td>\n",
       "      <td>NaN</td>\n",
       "      <td>NaN</td>\n",
       "      <td>NaN</td>\n",
       "      <td>Healthcare</td>\n",
       "    </tr>\n",
       "    <tr>\n",
       "      <th>2958</th>\n",
       "      <td>NaN</td>\n",
       "      <td>NaN</td>\n",
       "      <td>NaN</td>\n",
       "      <td>NaN</td>\n",
       "      <td>NaN</td>\n",
       "      <td>NaN</td>\n",
       "      <td>NaN</td>\n",
       "      <td>Healthcare</td>\n",
       "    </tr>\n",
       "    <tr>\n",
       "      <th>3050</th>\n",
       "      <td>NaN</td>\n",
       "      <td>NaN</td>\n",
       "      <td>NaN</td>\n",
       "      <td>NaN</td>\n",
       "      <td>NaN</td>\n",
       "      <td>NaN</td>\n",
       "      <td>NaN</td>\n",
       "      <td>Consumer Discretionary</td>\n",
       "    </tr>\n",
       "    <tr>\n",
       "      <th>3058</th>\n",
       "      <td>NaN</td>\n",
       "      <td>NaN</td>\n",
       "      <td>NaN</td>\n",
       "      <td>NaN</td>\n",
       "      <td>NaN</td>\n",
       "      <td>NaN</td>\n",
       "      <td>NaN</td>\n",
       "      <td>Healthcare</td>\n",
       "    </tr>\n",
       "    <tr>\n",
       "      <th>5335</th>\n",
       "      <td>NaN</td>\n",
       "      <td>NaN</td>\n",
       "      <td>NaN</td>\n",
       "      <td>NaN</td>\n",
       "      <td>NaN</td>\n",
       "      <td>NaN</td>\n",
       "      <td>NaN</td>\n",
       "      <td>Industrials</td>\n",
       "    </tr>\n",
       "    <tr>\n",
       "      <th>5456</th>\n",
       "      <td>NaN</td>\n",
       "      <td>NaN</td>\n",
       "      <td>NaN</td>\n",
       "      <td>NaN</td>\n",
       "      <td>NaN</td>\n",
       "      <td>NaN</td>\n",
       "      <td>NaN</td>\n",
       "      <td>Information Technology</td>\n",
       "    </tr>\n",
       "    <tr>\n",
       "      <th>5625</th>\n",
       "      <td>NaN</td>\n",
       "      <td>NaN</td>\n",
       "      <td>NaN</td>\n",
       "      <td>NaN</td>\n",
       "      <td>NaN</td>\n",
       "      <td>NaN</td>\n",
       "      <td>NaN</td>\n",
       "      <td>Consumer Discretionary</td>\n",
       "    </tr>\n",
       "    <tr>\n",
       "      <th>5716</th>\n",
       "      <td>NaN</td>\n",
       "      <td>NaN</td>\n",
       "      <td>NaN</td>\n",
       "      <td>NaN</td>\n",
       "      <td>NaN</td>\n",
       "      <td>NaN</td>\n",
       "      <td>NaN</td>\n",
       "      <td>Consumer Discretionary</td>\n",
       "    </tr>\n",
       "    <tr>\n",
       "      <th>1286</th>\n",
       "      <td>NaN</td>\n",
       "      <td>NaN</td>\n",
       "      <td>NaN</td>\n",
       "      <td>NaN</td>\n",
       "      <td>NaN</td>\n",
       "      <td>NaN</td>\n",
       "      <td>NaN</td>\n",
       "      <td>Energy</td>\n",
       "    </tr>\n",
       "    <tr>\n",
       "      <th>1593</th>\n",
       "      <td>NaN</td>\n",
       "      <td>NaN</td>\n",
       "      <td>NaN</td>\n",
       "      <td>NaN</td>\n",
       "      <td>NaN</td>\n",
       "      <td>NaN</td>\n",
       "      <td>NaN</td>\n",
       "      <td>Utilities</td>\n",
       "    </tr>\n",
       "    <tr>\n",
       "      <th>2529</th>\n",
       "      <td>NaN</td>\n",
       "      <td>NaN</td>\n",
       "      <td>NaN</td>\n",
       "      <td>NaN</td>\n",
       "      <td>NaN</td>\n",
       "      <td>NaN</td>\n",
       "      <td>NaN</td>\n",
       "      <td>Financials</td>\n",
       "    </tr>\n",
       "    <tr>\n",
       "      <th>3163</th>\n",
       "      <td>NaN</td>\n",
       "      <td>NaN</td>\n",
       "      <td>NaN</td>\n",
       "      <td>NaN</td>\n",
       "      <td>NaN</td>\n",
       "      <td>NaN</td>\n",
       "      <td>NaN</td>\n",
       "      <td>Utilities</td>\n",
       "    </tr>\n",
       "  </tbody>\n",
       "</table>\n",
       "</div>"
      ],
      "text/plain": [
       "      Unnamed: 0.1  level_0  Unnamed: 0  index Symbol Name  Market Cap  \\\n",
       "1774           NaN      NaN         NaN    NaN    NaN  NaN         NaN   \n",
       "1787           NaN      NaN         NaN    NaN    NaN  NaN         NaN   \n",
       "1794           NaN      NaN         NaN    NaN    NaN  NaN         NaN   \n",
       "1795           NaN      NaN         NaN    NaN    NaN  NaN         NaN   \n",
       "2033           NaN      NaN         NaN    NaN    NaN  NaN         NaN   \n",
       "2039           NaN      NaN         NaN    NaN    NaN  NaN         NaN   \n",
       "2093           NaN      NaN         NaN    NaN    NaN  NaN         NaN   \n",
       "2094           NaN      NaN         NaN    NaN    NaN  NaN         NaN   \n",
       "2402           NaN      NaN         NaN    NaN    NaN  NaN         NaN   \n",
       "2887           NaN      NaN         NaN    NaN    NaN  NaN         NaN   \n",
       "2958           NaN      NaN         NaN    NaN    NaN  NaN         NaN   \n",
       "3050           NaN      NaN         NaN    NaN    NaN  NaN         NaN   \n",
       "3058           NaN      NaN         NaN    NaN    NaN  NaN         NaN   \n",
       "5335           NaN      NaN         NaN    NaN    NaN  NaN         NaN   \n",
       "5456           NaN      NaN         NaN    NaN    NaN  NaN         NaN   \n",
       "5625           NaN      NaN         NaN    NaN    NaN  NaN         NaN   \n",
       "5716           NaN      NaN         NaN    NaN    NaN  NaN         NaN   \n",
       "1286           NaN      NaN         NaN    NaN    NaN  NaN         NaN   \n",
       "1593           NaN      NaN         NaN    NaN    NaN  NaN         NaN   \n",
       "2529           NaN      NaN         NaN    NaN    NaN  NaN         NaN   \n",
       "3163           NaN      NaN         NaN    NaN    NaN  NaN         NaN   \n",
       "\n",
       "                      Sector  \n",
       "1774             Industrials  \n",
       "1787             Industrials  \n",
       "1794             Industrials  \n",
       "1795             Industrials  \n",
       "2033               Utilities  \n",
       "2039             Industrials  \n",
       "2093  Consumer Discretionary  \n",
       "2094  Consumer Discretionary  \n",
       "2402             Industrials  \n",
       "2887              Healthcare  \n",
       "2958              Healthcare  \n",
       "3050  Consumer Discretionary  \n",
       "3058              Healthcare  \n",
       "5335             Industrials  \n",
       "5456  Information Technology  \n",
       "5625  Consumer Discretionary  \n",
       "5716  Consumer Discretionary  \n",
       "1286                  Energy  \n",
       "1593               Utilities  \n",
       "2529              Financials  \n",
       "3163               Utilities  "
      ]
     },
     "execution_count": 23,
     "metadata": {},
     "output_type": "execute_result"
    }
   ],
   "source": [
    "# Now to clean up the market capitalisation data\n",
    "us_stocks[us_stocks['Market Cap'].isna()]"
   ]
  },
  {
   "cell_type": "code",
   "execution_count": 37,
   "metadata": {},
   "outputs": [],
   "source": [
    "us_stocks.dropna(subset=['Symbol'], inplace=True)"
   ]
  },
  {
   "cell_type": "code",
   "execution_count": 38,
   "metadata": {
    "collapsed": false,
    "is_executing": true
   },
   "outputs": [],
   "source": [
    "# To make things easier we're going to use the Market Cap of the stock today (instead of in 2022). This means the indexes won;t be entirely accurate, but they should be close enough\n",
    "# For the stocks with NaN Market Caps, we will try download market cap data from Yahoo Finance\n",
    "for i in range(len(us_stocks)):\n",
    "    if pd.isnull(us_stocks.iloc[i]['Market Cap']):\n",
    "\n",
    "        # get market cap from yahoo finance (if data exists)\n",
    "        stock_yf_data = yf.Ticker(str(us_stocks.iloc[i]['Symbol'])).info\n",
    "        if 'marketCap' in stock_yf_data.keys():\n",
    "            us_stocks.at[i,'Market Cap'] = stock_yf_data['marketCap']\n",
    "            continue\n",
    "\n",
    "        #if there's no data on yahoo finance, get average market cap of the sector\n",
    "        stock_sector = us_stocks.iloc[i]['Sector']\n",
    "        us_stocks.at[i,'Market Cap'] = us_stocks[us_stocks['Sector']==stock_sector]['Market Cap'].mean()"
   ]
  },
  {
   "cell_type": "markdown",
   "metadata": {
    "collapsed": false
   },
   "source": [
    "For testing purposes, `us_stocks`, I calculate the mean Market Cap:"
   ]
  },
  {
   "cell_type": "code",
   "execution_count": 39,
   "metadata": {
    "collapsed": false,
    "is_executing": true
   },
   "outputs": [
    {
     "data": {
      "text/plain": [
       "9695819081.708857"
      ]
     },
     "execution_count": 39,
     "metadata": {},
     "output_type": "execute_result"
    }
   ],
   "source": [
    "us_stocks[(us_stocks['Sector']=='Financials') & (~us_stocks['Market Cap'].isna())]['Market Cap'].mean() #the mean market capitalisation"
   ]
  },
  {
   "cell_type": "code",
   "execution_count": 40,
   "metadata": {
    "collapsed": false,
    "is_executing": true
   },
   "outputs": [],
   "source": [
    "us_stocks.drop(['level_0','Unnamed: 0','index'],axis=1, inplace=True)"
   ]
  },
  {
   "cell_type": "markdown",
   "metadata": {
    "collapsed": false
   },
   "source": [
    "Any rows with missing items are dropped at this point - I haven't been able to find the data."
   ]
  },
  {
   "cell_type": "code",
   "execution_count": 41,
   "metadata": {
    "collapsed": false,
    "is_executing": true
   },
   "outputs": [],
   "source": [
    "us_stocks.dropna(inplace=True)"
   ]
  },
  {
   "cell_type": "markdown",
   "metadata": {
    "collapsed": false
   },
   "source": [
    "### Starting off - building an S&P 500 Equal Weight Index, and S&P500 normal index"
   ]
  },
  {
   "cell_type": "markdown",
   "metadata": {
    "collapsed": false
   },
   "source": [
    "I start off with building an S&P500 Equal Weight Index (for simplicity). This is the S&P 500 index, but with each stock having an equal weighting in the index."
   ]
  },
  {
   "cell_type": "code",
   "execution_count": 144,
   "metadata": {
    "collapsed": false,
    "is_executing": true
   },
   "outputs": [],
   "source": [
    "# Add a percentage change column to all stock csvs in stock_data, and drop unnecessary columns\n",
    "successful = []\n",
    "for i in us_stocks['Symbol']:\n",
    "    stock_data = pd.read_csv(f'stock_data/{i}.csv')\n",
    "    #stock_data.drop(['Open','High','Low','Close','Volume'], axis=1, inplace=True)\n",
    "    stock_data['% change'] = stock_data['Adj Close'].pct_change()\n",
    "    stock_data.at[0,'% change'] = 0\n",
    "    stock_data.to_csv(f'stock_data/{i}.csv')\n",
    "    successful += [i]"
   ]
  },
  {
   "cell_type": "code",
   "execution_count": 145,
   "metadata": {},
   "outputs": [
    {
     "data": {
      "text/plain": [
       "<Axes: >"
      ]
     },
     "execution_count": 145,
     "metadata": {},
     "output_type": "execute_result"
    },
    {
     "data": {
      "image/png": "[encoded data removed]",
      "text/plain": [
       "<Figure size 640x480 with 1 Axes>"
      ]
     },
     "metadata": {},
     "output_type": "display_data"
    }
   ],
   "source": [
    "pd.read_csv('stock_data/GOOG.csv').drop(['Open','High','Low','Close','Volume'], axis=1)['Adj Close'].pct_change().plot()"
   ]
  },
  {
   "cell_type": "markdown",
   "metadata": {
    "collapsed": false
   },
   "source": [
    "For testing purposes, I plot the daily percentage change in Google's GOOG stock, for 2022:"
   ]
  },
  {
   "cell_type": "markdown",
   "metadata": {
    "collapsed": false
   },
   "source": [
    "A dataframe of S&P 500 tickers is scraped from a wikipedia article:"
   ]
  },
  {
   "cell_type": "code",
   "execution_count": 146,
   "metadata": {
    "collapsed": false,
    "is_executing": true
   },
   "outputs": [],
   "source": [
    "# Get dataframe of tickers in the S&P500 index\n",
    "snp_ticker_list = pd.read_html('https://en.wikipedia.org/wiki/List_of_S%26P_500_companies')[0][['Symbol']]"
   ]
  },
  {
   "cell_type": "code",
   "execution_count": 147,
   "metadata": {
    "collapsed": false,
    "is_executing": true
   },
   "outputs": [
    {
     "data": {
      "text/plain": [
       "0       MMM\n",
       "1       AOS\n",
       "2       ABT\n",
       "3      ABBV\n",
       "4       ACN\n",
       "       ... \n",
       "498     YUM\n",
       "499    ZBRA\n",
       "500     ZBH\n",
       "501    ZION\n",
       "502     ZTS\n",
       "Name: Symbol, Length: 503, dtype: object"
      ]
     },
     "execution_count": 147,
     "metadata": {},
     "output_type": "execute_result"
    }
   ],
   "source": [
    "snp_ticker_list['Symbol']"
   ]
  },
  {
   "cell_type": "markdown",
   "metadata": {
    "collapsed": false
   },
   "source": [
    "Then I isolate the S&P 500 tickers I managed to download (and managed to fill in missing data):"
   ]
  },
  {
   "cell_type": "code",
   "execution_count": 148,
   "metadata": {
    "collapsed": false,
    "is_executing": true
   },
   "outputs": [],
   "source": [
    "%%capture\n",
    "exists = []\n",
    "for i in snp_ticker_list['Symbol']:\n",
    "    print(i)\n",
    "    if os.path.exists(f'stock_data/{i}.csv') and '% change' in pd.read_csv(f'stock_data/{i}.csv'):\n",
    "        exists += [i]"
   ]
  },
  {
   "cell_type": "code",
   "execution_count": 149,
   "metadata": {
    "collapsed": false,
    "is_executing": true
   },
   "outputs": [
    {
     "data": {
      "text/html": [
       "<div>\n",
       "<style scoped>\n",
       "    .dataframe tbody tr th:only-of-type {\n",
       "        vertical-align: middle;\n",
       "    }\n",
       "\n",
       "    .dataframe tbody tr th {\n",
       "        vertical-align: top;\n",
       "    }\n",
       "\n",
       "    .dataframe thead th {\n",
       "        text-align: right;\n",
       "    }\n",
       "</style>\n",
       "<table border=\"1\" class=\"dataframe\">\n",
       "  <thead>\n",
       "    <tr style=\"text-align: right;\">\n",
       "      <th></th>\n",
       "      <th>Symbol</th>\n",
       "    </tr>\n",
       "  </thead>\n",
       "  <tbody>\n",
       "    <tr>\n",
       "      <th>0</th>\n",
       "      <td>MMM</td>\n",
       "    </tr>\n",
       "    <tr>\n",
       "      <th>4</th>\n",
       "      <td>ACN</td>\n",
       "    </tr>\n",
       "    <tr>\n",
       "      <th>19</th>\n",
       "      <td>LNT</td>\n",
       "    </tr>\n",
       "    <tr>\n",
       "      <th>21</th>\n",
       "      <td>GOOGL</td>\n",
       "    </tr>\n",
       "    <tr>\n",
       "      <th>22</th>\n",
       "      <td>GOOG</td>\n",
       "    </tr>\n",
       "    <tr>\n",
       "      <th>...</th>\n",
       "      <td>...</td>\n",
       "    </tr>\n",
       "    <tr>\n",
       "      <th>450</th>\n",
       "      <td>TT</td>\n",
       "    </tr>\n",
       "    <tr>\n",
       "      <th>468</th>\n",
       "      <td>VLTO</td>\n",
       "    </tr>\n",
       "    <tr>\n",
       "      <th>475</th>\n",
       "      <td>VICI</td>\n",
       "    </tr>\n",
       "    <tr>\n",
       "      <th>493</th>\n",
       "      <td>WTW</td>\n",
       "    </tr>\n",
       "    <tr>\n",
       "      <th>494</th>\n",
       "      <td>GWW</td>\n",
       "    </tr>\n",
       "  </tbody>\n",
       "</table>\n",
       "<p>238 rows × 1 columns</p>\n",
       "</div>"
      ],
      "text/plain": [
       "    Symbol\n",
       "0      MMM\n",
       "4      ACN\n",
       "19     LNT\n",
       "21   GOOGL\n",
       "22    GOOG\n",
       "..     ...\n",
       "450     TT\n",
       "468   VLTO\n",
       "475   VICI\n",
       "493    WTW\n",
       "494    GWW\n",
       "\n",
       "[238 rows x 1 columns]"
      ]
     },
     "execution_count": 149,
     "metadata": {},
     "output_type": "execute_result"
    }
   ],
   "source": [
    "# These are the tickers that are in the S&P500, but for some reason, had to be dropped. We will disregard these to make the project easier\n",
    "snp_ticker_list[~snp_ticker_list['Symbol'].isin(exists)]\n"
   ]
  },
  {
   "cell_type": "markdown",
   "metadata": {
    "collapsed": false
   },
   "source": [
    "`snp_weights` is a list of the tickers' relative weights. As this is an Equal Weight Index, each stock has an equal weighting:"
   ]
  },
  {
   "cell_type": "code",
   "execution_count": 150,
   "metadata": {
    "collapsed": false,
    "is_executing": true
   },
   "outputs": [],
   "source": [
    "snp_weights = np.repeat(1/len(exists),len(exists)) # creating a list of weights, with each stock having equal weighting in this case"
   ]
  },
  {
   "cell_type": "markdown",
   "metadata": {
    "collapsed": false
   },
   "source": [
    "`snp_index` contains the daily returns of each stock in the index, on each trading day in 2022:"
   ]
  },
  {
   "cell_type": "code",
   "execution_count": 151,
   "metadata": {
    "collapsed": false,
    "is_executing": true
   },
   "outputs": [],
   "source": [
    "%%capture\n",
    "snp_index = pd.DataFrame()\n",
    "for i in exists:\n",
    "    snp_index[i] = pd.read_csv(f'stock_data/{i}.csv')['% change']\n",
    "    \n"
   ]
  },
  {
   "cell_type": "markdown",
   "metadata": {
    "collapsed": false
   },
   "source": [
    "The `index_returns` variable is added to `snp_index`, and this is the calculation of the index's returns on each trading day in 2022:"
   ]
  },
  {
   "cell_type": "code",
   "execution_count": 152,
   "metadata": {
    "collapsed": false,
    "is_executing": true
   },
   "outputs": [
    {
     "data": {
      "text/html": [
       "<div>\n",
       "<style scoped>\n",
       "    .dataframe tbody tr th:only-of-type {\n",
       "        vertical-align: middle;\n",
       "    }\n",
       "\n",
       "    .dataframe tbody tr th {\n",
       "        vertical-align: top;\n",
       "    }\n",
       "\n",
       "    .dataframe thead th {\n",
       "        text-align: right;\n",
       "    }\n",
       "</style>\n",
       "<table border=\"1\" class=\"dataframe\">\n",
       "  <thead>\n",
       "    <tr style=\"text-align: right;\">\n",
       "      <th></th>\n",
       "      <th>AOS</th>\n",
       "      <th>ABT</th>\n",
       "      <th>ABBV</th>\n",
       "      <th>ADM</th>\n",
       "      <th>ADBE</th>\n",
       "      <th>ADP</th>\n",
       "      <th>AES</th>\n",
       "      <th>AFL</th>\n",
       "      <th>A</th>\n",
       "      <th>ABNB</th>\n",
       "      <th>...</th>\n",
       "      <th>WMB</th>\n",
       "      <th>WYNN</th>\n",
       "      <th>XEL</th>\n",
       "      <th>XYL</th>\n",
       "      <th>YUM</th>\n",
       "      <th>ZBRA</th>\n",
       "      <th>ZBH</th>\n",
       "      <th>ZION</th>\n",
       "      <th>ZTS</th>\n",
       "      <th>index_returns</th>\n",
       "    </tr>\n",
       "  </thead>\n",
       "  <tbody>\n",
       "    <tr>\n",
       "      <th>0</th>\n",
       "      <td>0.000000</td>\n",
       "      <td>0.000000</td>\n",
       "      <td>0.000000</td>\n",
       "      <td>0.000000</td>\n",
       "      <td>0.000000</td>\n",
       "      <td>0.000000</td>\n",
       "      <td>0.000000</td>\n",
       "      <td>0.000000</td>\n",
       "      <td>0.000000</td>\n",
       "      <td>0.000000</td>\n",
       "      <td>...</td>\n",
       "      <td>0.000000</td>\n",
       "      <td>0.000000</td>\n",
       "      <td>0.000000</td>\n",
       "      <td>0.000000</td>\n",
       "      <td>0.000000</td>\n",
       "      <td>0.000000</td>\n",
       "      <td>0.000000</td>\n",
       "      <td>0.000000</td>\n",
       "      <td>0.000000</td>\n",
       "      <td>0.000000</td>\n",
       "    </tr>\n",
       "    <tr>\n",
       "      <th>1</th>\n",
       "      <td>0.016633</td>\n",
       "      <td>-0.023518</td>\n",
       "      <td>-0.001920</td>\n",
       "      <td>0.018559</td>\n",
       "      <td>-0.018374</td>\n",
       "      <td>0.004672</td>\n",
       "      <td>0.002871</td>\n",
       "      <td>0.032779</td>\n",
       "      <td>-0.033806</td>\n",
       "      <td>-0.010887</td>\n",
       "      <td>...</td>\n",
       "      <td>0.009057</td>\n",
       "      <td>-0.003190</td>\n",
       "      <td>0.006329</td>\n",
       "      <td>0.010608</td>\n",
       "      <td>0.005347</td>\n",
       "      <td>0.006337</td>\n",
       "      <td>0.010145</td>\n",
       "      <td>0.028487</td>\n",
       "      <td>-0.038072</td>\n",
       "      <td>0.007829</td>\n",
       "    </tr>\n",
       "    <tr>\n",
       "      <th>2</th>\n",
       "      <td>-0.016714</td>\n",
       "      <td>-0.004493</td>\n",
       "      <td>0.005253</td>\n",
       "      <td>-0.007809</td>\n",
       "      <td>-0.071426</td>\n",
       "      <td>-0.008525</td>\n",
       "      <td>-0.045808</td>\n",
       "      <td>-0.001662</td>\n",
       "      <td>-0.017131</td>\n",
       "      <td>-0.050059</td>\n",
       "      <td>...</td>\n",
       "      <td>0.002244</td>\n",
       "      <td>-0.037033</td>\n",
       "      <td>0.009800</td>\n",
       "      <td>-0.013629</td>\n",
       "      <td>-0.012677</td>\n",
       "      <td>-0.050068</td>\n",
       "      <td>-0.003297</td>\n",
       "      <td>0.002270</td>\n",
       "      <td>-0.038024</td>\n",
       "      <td>-0.016183</td>\n",
       "    </tr>\n",
       "    <tr>\n",
       "      <th>3</th>\n",
       "      <td>0.006703</td>\n",
       "      <td>-0.000148</td>\n",
       "      <td>-0.004710</td>\n",
       "      <td>0.008891</td>\n",
       "      <td>-0.000603</td>\n",
       "      <td>-0.006871</td>\n",
       "      <td>-0.003858</td>\n",
       "      <td>0.018475</td>\n",
       "      <td>0.003499</td>\n",
       "      <td>-0.015408</td>\n",
       "      <td>...</td>\n",
       "      <td>0.023880</td>\n",
       "      <td>0.004629</td>\n",
       "      <td>-0.007822</td>\n",
       "      <td>-0.001373</td>\n",
       "      <td>0.010330</td>\n",
       "      <td>-0.005410</td>\n",
       "      <td>-0.008307</td>\n",
       "      <td>0.041075</td>\n",
       "      <td>0.003971</td>\n",
       "      <td>0.002374</td>\n",
       "    </tr>\n",
       "    <tr>\n",
       "      <th>4</th>\n",
       "      <td>-0.011296</td>\n",
       "      <td>0.003108</td>\n",
       "      <td>-0.002588</td>\n",
       "      <td>0.008523</td>\n",
       "      <td>-0.006652</td>\n",
       "      <td>-0.010564</td>\n",
       "      <td>-0.006024</td>\n",
       "      <td>0.015852</td>\n",
       "      <td>-0.026623</td>\n",
       "      <td>0.039437</td>\n",
       "      <td>...</td>\n",
       "      <td>0.020773</td>\n",
       "      <td>-0.001063</td>\n",
       "      <td>0.008759</td>\n",
       "      <td>-0.007992</td>\n",
       "      <td>-0.011467</td>\n",
       "      <td>-0.043771</td>\n",
       "      <td>-0.006050</td>\n",
       "      <td>0.016681</td>\n",
       "      <td>-0.029114</td>\n",
       "      <td>-0.002889</td>\n",
       "    </tr>\n",
       "    <tr>\n",
       "      <th>...</th>\n",
       "      <td>...</td>\n",
       "      <td>...</td>\n",
       "      <td>...</td>\n",
       "      <td>...</td>\n",
       "      <td>...</td>\n",
       "      <td>...</td>\n",
       "      <td>...</td>\n",
       "      <td>...</td>\n",
       "      <td>...</td>\n",
       "      <td>...</td>\n",
       "      <td>...</td>\n",
       "      <td>...</td>\n",
       "      <td>...</td>\n",
       "      <td>...</td>\n",
       "      <td>...</td>\n",
       "      <td>...</td>\n",
       "      <td>...</td>\n",
       "      <td>...</td>\n",
       "      <td>...</td>\n",
       "      <td>...</td>\n",
       "      <td>...</td>\n",
       "    </tr>\n",
       "    <tr>\n",
       "      <th>246</th>\n",
       "      <td>0.011915</td>\n",
       "      <td>0.001388</td>\n",
       "      <td>-0.001041</td>\n",
       "      <td>0.012087</td>\n",
       "      <td>0.005735</td>\n",
       "      <td>0.007443</td>\n",
       "      <td>0.013070</td>\n",
       "      <td>0.011846</td>\n",
       "      <td>0.001476</td>\n",
       "      <td>0.004477</td>\n",
       "      <td>...</td>\n",
       "      <td>0.023027</td>\n",
       "      <td>-0.006401</td>\n",
       "      <td>0.012852</td>\n",
       "      <td>-0.000729</td>\n",
       "      <td>0.000621</td>\n",
       "      <td>0.002869</td>\n",
       "      <td>0.001106</td>\n",
       "      <td>0.003521</td>\n",
       "      <td>0.005033</td>\n",
       "      <td>0.006626</td>\n",
       "    </tr>\n",
       "    <tr>\n",
       "      <th>247</th>\n",
       "      <td>0.013532</td>\n",
       "      <td>0.003605</td>\n",
       "      <td>-0.000674</td>\n",
       "      <td>0.013634</td>\n",
       "      <td>-0.009928</td>\n",
       "      <td>0.000374</td>\n",
       "      <td>0.004881</td>\n",
       "      <td>0.006829</td>\n",
       "      <td>0.002144</td>\n",
       "      <td>-0.020645</td>\n",
       "      <td>...</td>\n",
       "      <td>0.002701</td>\n",
       "      <td>0.044723</td>\n",
       "      <td>0.009023</td>\n",
       "      <td>0.009022</td>\n",
       "      <td>0.007758</td>\n",
       "      <td>0.011200</td>\n",
       "      <td>0.004657</td>\n",
       "      <td>0.008050</td>\n",
       "      <td>-0.003156</td>\n",
       "      <td>0.000643</td>\n",
       "    </tr>\n",
       "    <tr>\n",
       "      <th>248</th>\n",
       "      <td>-0.015606</td>\n",
       "      <td>-0.006816</td>\n",
       "      <td>-0.004663</td>\n",
       "      <td>-0.023877</td>\n",
       "      <td>-0.020174</td>\n",
       "      <td>-0.013193</td>\n",
       "      <td>-0.017349</td>\n",
       "      <td>-0.010659</td>\n",
       "      <td>-0.009763</td>\n",
       "      <td>-0.011977</td>\n",
       "      <td>...</td>\n",
       "      <td>-0.020652</td>\n",
       "      <td>-0.050279</td>\n",
       "      <td>-0.007203</td>\n",
       "      <td>-0.016077</td>\n",
       "      <td>-0.004542</td>\n",
       "      <td>-0.016574</td>\n",
       "      <td>-0.010135</td>\n",
       "      <td>-0.017813</td>\n",
       "      <td>-0.010117</td>\n",
       "      <td>-0.013343</td>\n",
       "    </tr>\n",
       "    <tr>\n",
       "      <th>249</th>\n",
       "      <td>0.015677</td>\n",
       "      <td>0.022999</td>\n",
       "      <td>0.002034</td>\n",
       "      <td>-0.005341</td>\n",
       "      <td>0.028173</td>\n",
       "      <td>0.011646</td>\n",
       "      <td>0.017302</td>\n",
       "      <td>0.008535</td>\n",
       "      <td>0.020258</td>\n",
       "      <td>0.033216</td>\n",
       "      <td>...</td>\n",
       "      <td>0.007641</td>\n",
       "      <td>0.014609</td>\n",
       "      <td>0.007085</td>\n",
       "      <td>0.024784</td>\n",
       "      <td>0.005259</td>\n",
       "      <td>0.043307</td>\n",
       "      <td>0.014604</td>\n",
       "      <td>0.023140</td>\n",
       "      <td>0.030035</td>\n",
       "      <td>0.017818</td>\n",
       "    </tr>\n",
       "    <tr>\n",
       "      <th>250</th>\n",
       "      <td>-0.007284</td>\n",
       "      <td>-0.004714</td>\n",
       "      <td>-0.005844</td>\n",
       "      <td>-0.002900</td>\n",
       "      <td>-0.003110</td>\n",
       "      <td>-0.007314</td>\n",
       "      <td>-0.001735</td>\n",
       "      <td>-0.001942</td>\n",
       "      <td>-0.008054</td>\n",
       "      <td>0.003168</td>\n",
       "      <td>...</td>\n",
       "      <td>-0.002123</td>\n",
       "      <td>0.014890</td>\n",
       "      <td>-0.013508</td>\n",
       "      <td>-0.009584</td>\n",
       "      <td>-0.014693</td>\n",
       "      <td>-0.004349</td>\n",
       "      <td>-0.002581</td>\n",
       "      <td>0.001630</td>\n",
       "      <td>-0.010800</td>\n",
       "      <td>-0.004160</td>\n",
       "    </tr>\n",
       "  </tbody>\n",
       "</table>\n",
       "<p>251 rows × 266 columns</p>\n",
       "</div>"
      ],
      "text/plain": [
       "          AOS       ABT      ABBV       ADM      ADBE       ADP       AES  \\\n",
       "0    0.000000  0.000000  0.000000  0.000000  0.000000  0.000000  0.000000   \n",
       "1    0.016633 -0.023518 -0.001920  0.018559 -0.018374  0.004672  0.002871   \n",
       "2   -0.016714 -0.004493  0.005253 -0.007809 -0.071426 -0.008525 -0.045808   \n",
       "3    0.006703 -0.000148 -0.004710  0.008891 -0.000603 -0.006871 -0.003858   \n",
       "4   -0.011296  0.003108 -0.002588  0.008523 -0.006652 -0.010564 -0.006024   \n",
       "..        ...       ...       ...       ...       ...       ...       ...   \n",
       "246  0.011915  0.001388 -0.001041  0.012087  0.005735  0.007443  0.013070   \n",
       "247  0.013532  0.003605 -0.000674  0.013634 -0.009928  0.000374  0.004881   \n",
       "248 -0.015606 -0.006816 -0.004663 -0.023877 -0.020174 -0.013193 -0.017349   \n",
       "249  0.015677  0.022999  0.002034 -0.005341  0.028173  0.011646  0.017302   \n",
       "250 -0.007284 -0.004714 -0.005844 -0.002900 -0.003110 -0.007314 -0.001735   \n",
       "\n",
       "          AFL         A      ABNB  ...       WMB      WYNN       XEL  \\\n",
       "0    0.000000  0.000000  0.000000  ...  0.000000  0.000000  0.000000   \n",
       "1    0.032779 -0.033806 -0.010887  ...  0.009057 -0.003190  0.006329   \n",
       "2   -0.001662 -0.017131 -0.050059  ...  0.002244 -0.037033  0.009800   \n",
       "3    0.018475  0.003499 -0.015408  ...  0.023880  0.004629 -0.007822   \n",
       "4    0.015852 -0.026623  0.039437  ...  0.020773 -0.001063  0.008759   \n",
       "..        ...       ...       ...  ...       ...       ...       ...   \n",
       "246  0.011846  0.001476  0.004477  ...  0.023027 -0.006401  0.012852   \n",
       "247  0.006829  0.002144 -0.020645  ...  0.002701  0.044723  0.009023   \n",
       "248 -0.010659 -0.009763 -0.011977  ... -0.020652 -0.050279 -0.007203   \n",
       "249  0.008535  0.020258  0.033216  ...  0.007641  0.014609  0.007085   \n",
       "250 -0.001942 -0.008054  0.003168  ... -0.002123  0.014890 -0.013508   \n",
       "\n",
       "          XYL       YUM      ZBRA       ZBH      ZION       ZTS  index_returns  \n",
       "0    0.000000  0.000000  0.000000  0.000000  0.000000  0.000000       0.000000  \n",
       "1    0.010608  0.005347  0.006337  0.010145  0.028487 -0.038072       0.007829  \n",
       "2   -0.013629 -0.012677 -0.050068 -0.003297  0.002270 -0.038024      -0.016183  \n",
       "3   -0.001373  0.010330 -0.005410 -0.008307  0.041075  0.003971       0.002374  \n",
       "4   -0.007992 -0.011467 -0.043771 -0.006050  0.016681 -0.029114      -0.002889  \n",
       "..        ...       ...       ...       ...       ...       ...            ...  \n",
       "246 -0.000729  0.000621  0.002869  0.001106  0.003521  0.005033       0.006626  \n",
       "247  0.009022  0.007758  0.011200  0.004657  0.008050 -0.003156       0.000643  \n",
       "248 -0.016077 -0.004542 -0.016574 -0.010135 -0.017813 -0.010117      -0.013343  \n",
       "249  0.024784  0.005259  0.043307  0.014604  0.023140  0.030035       0.017818  \n",
       "250 -0.009584 -0.014693 -0.004349 -0.002581  0.001630 -0.010800      -0.004160  \n",
       "\n",
       "[251 rows x 266 columns]"
      ]
     },
     "execution_count": 152,
     "metadata": {},
     "output_type": "execute_result"
    }
   ],
   "source": [
    "snp_index['index_returns'] = snp_index.mul(snp_weights,axis=1).sum(axis=1)\n",
    "snp_index"
   ]
  },
  {
   "cell_type": "markdown",
   "metadata": {
    "collapsed": false
   },
   "source": [
    "The index returns are converted to cumulative returns to give the total returns through time"
   ]
  },
  {
   "cell_type": "code",
   "execution_count": 153,
   "metadata": {
    "collapsed": false,
    "is_executing": true
   },
   "outputs": [],
   "source": [
    "snp_index['cumulative returns'] = ((1+snp_index['index_returns']).cumprod()-1)"
   ]
  },
  {
   "cell_type": "markdown",
   "metadata": {
    "collapsed": false
   },
   "source": [
    "And the result is plotted. The resulting plot is very similar to the actual S&P 500 EWI graph, indicating that the tickers that had to be excluded did not have a major effect on the final result."
   ]
  },
  {
   "cell_type": "code",
   "execution_count": 154,
   "metadata": {
    "collapsed": false,
    "is_executing": true
   },
   "outputs": [
    {
     "data": {
      "text/plain": [
       "<Axes: >"
      ]
     },
     "execution_count": 154,
     "metadata": {},
     "output_type": "execute_result"
    },
    {
     "data": {
      "image/png": "[encoded data removed]",
      "text/plain": [
       "<Figure size 640x480 with 1 Axes>"
      ]
     },
     "metadata": {},
     "output_type": "display_data"
    }
   ],
   "source": [
    "snp_index['cumulative returns'].plot()\n",
    "# Quite close to actual graph but not perfect - year change is about 1 percentage point from the actual value"
   ]
  },
  {
   "cell_type": "markdown",
   "metadata": {
    "collapsed": false
   },
   "source": [
    "I then follow the same steps to create the actual S&P 500 (weighted) index:"
   ]
  },
  {
   "cell_type": "code",
   "execution_count": 155,
   "metadata": {
    "collapsed": false,
    "is_executing": true
   },
   "outputs": [
    {
     "data": {
      "text/plain": [
       "<Axes: >"
      ]
     },
     "execution_count": 155,
     "metadata": {},
     "output_type": "execute_result"
    },
    {
     "data": {
      "image/png": "[encoded data removed]",
      "text/plain": [
       "<Figure size 640x480 with 1 Axes>"
      ]
     },
     "metadata": {},
     "output_type": "display_data"
    }
   ],
   "source": [
    "# To create a market cap weighted index\n",
    "snp_weights = []\n",
    "for i in snp_index:\n",
    "    try:\n",
    "        mktcap = float(us_stocks[us_stocks['Symbol']==i]['Market Cap'].iloc[0])\n",
    "    except:\n",
    "        mktcap = 0\n",
    "    snp_weights += [mktcap/us_stocks[us_stocks['Symbol'].isin(exists)]['Market Cap'].sum()]\n",
    "#snp_index.drop(['index_returns','cumulative returns'], axis=1, inplace=True)\n",
    "snp_index['index_returns'] = snp_index.mul(snp_weights,axis=1).sum(axis=1)\n",
    "snp_index['cumulative returns'] = ((1+snp_index['index_returns']).cumprod()-1)\n",
    "snp_index['cumulative returns'].plot()"
   ]
  },
  {
   "cell_type": "code",
   "execution_count": 156,
   "metadata": {},
   "outputs": [
    {
     "data": {
      "text/plain": [
       "267"
      ]
     },
     "execution_count": 156,
     "metadata": {},
     "output_type": "execute_result"
    }
   ],
   "source": [
    "len(snp_weights)"
   ]
  },
  {
   "cell_type": "code",
   "execution_count": 157,
   "metadata": {
    "collapsed": false,
    "is_executing": true
   },
   "outputs": [
    {
     "data": {
      "text/plain": [
       "-0.17998758588466335"
      ]
     },
     "execution_count": 157,
     "metadata": {},
     "output_type": "execute_result"
    }
   ],
   "source": [
    "snp_index['cumulative returns'].iloc[250] # actual return is -0.1944, so this one is about 2 percentage points from the actual"
   ]
  },
  {
   "cell_type": "markdown",
   "metadata": {
    "collapsed": false
   },
   "source": [
    "### Next Step: making an index of each industries in the US"
   ]
  },
  {
   "cell_type": "code",
   "execution_count": 158,
   "metadata": {
    "collapsed": false,
    "is_executing": true
   },
   "outputs": [
    {
     "data": {
      "text/plain": [
       "0     Communication Services\n",
       "1     Consumer Discretionary\n",
       "2           Consumer Staples\n",
       "3                     Energy\n",
       "4                 Financials\n",
       "5                 Healthcare\n",
       "6                Industrials\n",
       "7     Information Technology\n",
       "8                  Materials\n",
       "9                Real Estate\n",
       "10                 Utilities\n",
       "Name: Sector, dtype: object"
      ]
     },
     "execution_count": 158,
     "metadata": {},
     "output_type": "execute_result"
    }
   ],
   "source": [
    "sectors"
   ]
  },
  {
   "cell_type": "code",
   "execution_count": 159,
   "metadata": {
    "collapsed": false,
    "is_executing": true
   },
   "outputs": [],
   "source": [
    "# compute the different weights of each industry based on market capitalisation\n",
    "industry_weights = {}\n",
    "for i in sectors:\n",
    "    weights = []\n",
    "    industry_tickers = list(us_stocks[us_stocks['Sector'] == i]['Symbol'])\n",
    "\n",
    "    for j in industry_tickers:\n",
    "        market_cap = float(us_stocks[us_stocks['Symbol']==j]['Market Cap'])\n",
    "        weights += [market_cap/us_stocks[us_stocks['Symbol'].isin(industry_tickers)]['Market Cap'].sum()]\n",
    "    industry_weights[i] = weights"
   ]
  },
  {
   "cell_type": "code",
   "execution_count": 160,
   "metadata": {
    "collapsed": false,
    "is_executing": true
   },
   "outputs": [],
   "source": [
    "# Compute the cumulative returns of all sectors\n",
    "industry_return_data = pd.DataFrame()\n",
    "for i in sectors:\n",
    "    return_data = pd.DataFrame()\n",
    "    industry_tickers = list(us_stocks[us_stocks['Sector'] == i]['Symbol'])\n",
    "    for j in industry_tickers:\n",
    "        return_data[j] = pd.read_csv(f'stock_data/{j}.csv')['% change']\n",
    "    return_data['index_returns'] = return_data.mul(industry_weights[i],axis=1).sum(axis=1)\n",
    "    return_data['cumulative returns'] = ((1+return_data['index_returns']).cumprod()-1)\n",
    "    industry_return_data[i] = return_data['cumulative returns'] # this is all we need. We can throw out the rest"
   ]
  },
  {
   "cell_type": "markdown",
   "metadata": {},
   "source": [
    "The result is a plot of the performance of each of the sectors on the stock market:"
   ]
  },
  {
   "cell_type": "code",
   "execution_count": 161,
   "metadata": {
    "collapsed": false,
    "is_executing": true
   },
   "outputs": [
    {
     "data": {
      "text/plain": [
       "<Axes: >"
      ]
     },
     "execution_count": 161,
     "metadata": {},
     "output_type": "execute_result"
    },
    {
     "data": {
      "image/png": "[encoded data removed]",
      "text/plain": [
       "<Figure size 640x480 with 1 Axes>"
      ]
     },
     "metadata": {},
     "output_type": "display_data"
    }
   ],
   "source": [
    "industry_return_data.plot()"
   ]
  },
  {
   "cell_type": "markdown",
   "metadata": {},
   "source": [
    "The **Energy** sector gained a whooping 60%! This was largely the result of the war in Ukraine pushing up oil prices to record highs. The **Information Technology** sector, on the other hand, declined about 30%. Analysts attribute this to high interest rates, high inflation, and a generally uncertain business environment."
   ]
  }
 ],
 "metadata": {
  "kernelspec": {
   "display_name": "Python 3 (ipykernel)",
   "language": "python",
   "name": "python3"
  },
  "language_info": {
   "codemirror_mode": {
    "name": "ipython",
    "version": 3
   },
   "file_extension": ".py",
   "mimetype": "text/x-python",
   "name": "python",
   "nbconvert_exporter": "python",
   "pygments_lexer": "ipython3",
   "version": "3.11.3"
  }
 },
 "nbformat": 4,
 "nbformat_minor": 0
}
