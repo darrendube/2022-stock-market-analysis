{
 "cells": [
  {
   "cell_type": "markdown",
   "metadata": {
    "collapsed": false
   },
   "source": [
    "# US 2022 Stock Market Analysis"
   ]
  },
  {
   "cell_type": "markdown",
   "metadata": {
    "collapsed": false
   },
   "source": [
    "In this notebook, I will attempt to investigate how the various sectors of the US economy performed on the stock market in 2022 by creating a market cap-weighted index of each sector, and plotting its returns over the year.\n",
    "\n",
    "The stocks are classified into these sectors according to the Global Industry Classification  Standard (GICS):\n",
    "- Communication Services\n",
    "- Consumer Discretionary\n",
    "- Consumer Staples\n",
    "- Energy\n",
    "- Financials\n",
    "- Healthcare\n",
    "- Industrials \n",
    "- Information Technology\n",
    "- Materials\n",
    "- Real Estate\n",
    "- Utilities\n"
   ]
  },
  {
   "cell_type": "code",
   "execution_count": 10,
   "metadata": {
    "ExecuteTime": {
     "end_time": "2023-10-18T20:40:07.868608435Z",
     "start_time": "2023-10-18T20:40:06.913236410Z"
    },
    "collapsed": false
   },
   "outputs": [],
   "source": [
    "import yfinance as yf\n",
    "import pandas as pd\n",
    "import os\n",
    "import numpy as np\n",
    "import matplotlib.pyplot as plt"
   ]
  },
  {
   "cell_type": "markdown",
   "metadata": {
    "collapsed": false
   },
   "source": [
    "### Downloading stock data"
   ]
  },
  {
   "cell_type": "markdown",
   "metadata": {
    "collapsed": false
   },
   "source": [
    "I first had to get a table of all the stocks currently trading in the US. I downloaded the data below from the [NASDAQ Stock Screener](https://www.nasdaq.com/market-activity/stocks/screener)."
   ]
  },
  {
   "cell_type": "code",
   "execution_count": 11,
   "metadata": {
    "ExecuteTime": {
     "end_time": "2023-10-18T20:40:07.891053360Z",
     "start_time": "2023-10-18T20:40:07.855649702Z"
    },
    "collapsed": false
   },
   "outputs": [],
   "source": [
    "# Data from NASDAQ stock screener\n",
    "us_stocks = pd.read_csv('us_stocks.csv')"
   ]
  },
  {
   "cell_type": "code",
   "execution_count": 12,
   "metadata": {
    "ExecuteTime": {
     "end_time": "2023-10-18T20:40:08.236619143Z",
     "start_time": "2023-10-18T20:40:07.876136763Z"
    },
    "collapsed": false,
    "tags": [
     "hide-output"
    ]
   },
   "outputs": [],
   "source": [
    "%%capture\n",
    "us_stocks"
   ]
  },
  {
   "cell_type": "code",
   "execution_count": 13,
   "metadata": {
    "ExecuteTime": {
     "end_time": "2023-10-18T20:40:08.329489214Z",
     "start_time": "2023-10-18T20:40:08.235700619Z"
    },
    "collapsed": false
   },
   "outputs": [],
   "source": [
    "us_stock_ticker_symbols = us_stocks['Symbol']"
   ]
  },
  {
   "cell_type": "markdown",
   "metadata": {
    "collapsed": false
   },
   "source": [
    "Next, I downloaded the 2022 price history of each stock, saving each in its own file in the folder `us_stocks`.\n",
    "This price data is from [Yahoo Finance](https://finance.yahoo.com), accessed through the `yfinance` library."
   ]
  },
  {
   "cell_type": "code",
   "execution_count": 14,
   "metadata": {
    "ExecuteTime": {
     "start_time": "2023-10-18T20:40:08.332073870Z"
    },
    "collapsed": false,
    "is_executing": true,
    "tags": []
   },
   "outputs": [],
   "source": [
    "%%capture\n",
    "tickers_loaded = []\n",
    "tickers_not_loaded = []\n",
    "for i in us_stock_ticker_symbols:\n",
    "    ticker = i.replace('^', '-P')\n",
    "    # Make sure there is no error associated with downloading the stock data\n",
    "    try:\n",
    "        data = yf.download(ticker, start='2022-01-01', end='2022-12-31')\n",
    "    except:\n",
    "        tickers_not_loaded += [ticker]\n",
    "        continue\n",
    "    # Make sure ticker was traded on all trading days in 2022\n",
    "    # Also takes care of tickers that failed to download but did not raise an exception\n",
    "    if len(data) != 251:\n",
    "        tickers_not_loaded += [ticker]\n",
    "        continue\n",
    "    # / character is not allowed in file names\n",
    "    file_name = ticker.replace('/','{slash}')\n",
    "    data.to_csv(f'stock_data/{file_name}.csv')\n",
    "    tickers_loaded += [ticker]"
   ]
  },
  {
   "cell_type": "code",
   "execution_count": null,
   "metadata": {
    "collapsed": false,
    "is_executing": true
   },
   "outputs": [],
   "source": [
    "# Data of tickers that managed to load and tickers that did not. Needs to be changed to DataFrame to make using it easier\n",
    "tickers_loaded = pd.DataFrame(tickers_loaded, columns=['Symbol'])\n",
    "tickers_not_loaded = pd.DataFrame(tickers_not_loaded, columns=['Symbol'])"
   ]
  },
  {
   "cell_type": "markdown",
   "metadata": {
    "collapsed": false
   },
   "source": [
    "I need to replace '^' (found in NASDAQ stock tickers) with '-P' (found in Yahoo finance stock tickers). I also need to replace any '/' found in the ticker name with '{slash}' (as / is not allowed in file name)>"
   ]
  },
  {
   "cell_type": "code",
   "execution_count": null,
   "metadata": {
    "collapsed": false,
    "is_executing": true
   },
   "outputs": [],
   "source": [
    "us_stocks['Symbol'] = us_stocks['Symbol'].replace({'\\^': '-P'}, regex=True)\n",
    "us_stocks['Symbol'] = us_stocks['Symbol'].replace({'/': '{slash}'}, regex=True)"
   ]
  },
  {
   "cell_type": "markdown",
   "metadata": {
    "collapsed": false
   },
   "source": [
    "### Cleaning up data (mostly renaming of Sectors"
   ]
  },
  {
   "cell_type": "markdown",
   "metadata": {
    "collapsed": false
   },
   "source": [
    "In this section, I clean up the data, making sure each stock has a Sector and Market Cap, and the Sector names are in line with the Global Industry Classification Standard (GICS)."
   ]
  },
  {
   "cell_type": "code",
   "execution_count": null,
   "metadata": {
    "collapsed": false,
    "is_executing": true
   },
   "outputs": [],
   "source": [
    "# The breakdown of sectors according to NASDAQ\n",
    "sectors = pd.DataFrame(us_stocks.groupby('Sector').count().index)"
   ]
  },
  {
   "cell_type": "code",
   "execution_count": null,
   "metadata": {
    "collapsed": false,
    "is_executing": true
   },
   "outputs": [],
   "source": [
    "sectors"
   ]
  },
  {
   "cell_type": "code",
   "execution_count": null,
   "metadata": {
    "collapsed": false,
    "is_executing": true
   },
   "outputs": [],
   "source": [
    "us_stocks[us_stocks['Sector']=='Miscellaneous']"
   ]
  },
  {
   "cell_type": "code",
   "execution_count": null,
   "metadata": {
    "collapsed": false,
    "is_executing": true
   },
   "outputs": [],
   "source": [
    "indexes_to_drop = list(us_stocks[us_stocks['Symbol'].isin(tickers_not_loaded['Symbol'])].index)"
   ]
  },
  {
   "cell_type": "code",
   "execution_count": null,
   "metadata": {
    "collapsed": false,
    "is_executing": true
   },
   "outputs": [],
   "source": [
    "us_stocks.drop(indexes_to_drop, inplace=True)"
   ]
  },
  {
   "cell_type": "code",
   "execution_count": null,
   "metadata": {
    "collapsed": false,
    "is_executing": true
   },
   "outputs": [],
   "source": [
    "# checking which tickers have a sector marked as Miscellaneous\n",
    "us_stocks[us_stocks['Sector']=='Miscellaneous']"
   ]
  },
  {
   "cell_type": "code",
   "execution_count": null,
   "metadata": {
    "collapsed": false,
    "is_executing": true
   },
   "outputs": [],
   "source": [
    "# checking which ickers have missing sectors\n",
    "us_stocks[us_stocks['Sector'].isna()]"
   ]
  },
  {
   "cell_type": "code",
   "execution_count": null,
   "metadata": {
    "collapsed": false,
    "is_executing": true
   },
   "outputs": [],
   "source": [
    "# Attempt to assign sector to tickers that have no sector\n",
    "for i in range(len(us_stocks)):\n",
    "    if pd.isnull(us_stocks.iloc[i]['Sector']):\n",
    "        # check if it is a variant of an existing stock\n",
    "        if ('-P' in us_stocks.iloc[i]['Symbol']) & (us_stocks.iloc[i]['Symbol'].split('-')[0] in us_stocks['Symbol'].values ):\n",
    "            us_stocks.at[i,'Sector'] = str(us_stocks[us_stocks['Symbol']==us_stocks.iloc[i]['Symbol'].split('-')[0]]['Sector'].values[0])\n",
    "            continue\n",
    "\n",
    "        # get  sector classification from yahoo finance\n",
    "        stock_yf_data = yf.Ticker(us_stocks.iloc[i]['Symbol']).info\n",
    "        if 'sector' in stock_yf_data.keys():\n",
    "            us_stocks.at[i,'Sector'] = stock_yf_data['sector']\n",
    "\n"
   ]
  },
  {
   "cell_type": "code",
   "execution_count": null,
   "metadata": {
    "collapsed": false,
    "is_executing": true
   },
   "outputs": [],
   "source": [
    "# The stocks with sectors still missing\n",
    "us_stocks[us_stocks['Sector'].isna() | us_stocks['Sector']=='Miscellaneous']"
   ]
  },
  {
   "cell_type": "code",
   "execution_count": null,
   "metadata": {
    "collapsed": false,
    "is_executing": true
   },
   "outputs": [],
   "source": [
    "# Mannually replacing the remaining missing sectors\n",
    "us_stocks.at[83,'Sector'] = 'Industrials'\n",
    "us_stocks.at[102,'Sector'] = 'Utilities' # check if this is true\n",
    "us_stocks.at[292,'Sector'] = 'Finance'\n",
    "us_stocks.at[391,'Sector'] = 'Technology'\n",
    "us_stocks.at[498,'Sector'] = 'Industrials'\n",
    "us_stocks.at[639,'Sector'] = 'Consumer Discretionary'\n",
    "us_stocks.at[931,'Sector'] = 'Industrials'\n",
    "us_stocks.at[1120,'Sector'] = 'Consumer Discretionary'\n",
    "us_stocks.at[1774,'Sector'] = 'Industrials'\n",
    "us_stocks.at[1787,'Sector'] = 'Industrials'\n",
    "us_stocks.at[1794,'Sector'] = 'Industrials'\n",
    "us_stocks.at[1795,'Sector'] = 'Industrials'\n",
    "us_stocks.at[2033,'Sector'] = 'Utilities'\n",
    "us_stocks.at[2039,'Sector'] = 'Industrials'\n",
    "us_stocks.at[2093,'Sector'] = 'Consumer Discretionary'\n",
    "us_stocks.at[2094,'Sector'] = 'Consumer Discretionary'\n",
    "us_stocks.at[2402,'Sector'] = 'Industrials'\n",
    "us_stocks.at[2887,'Sector'] = 'Health Care'\n",
    "us_stocks.at[2958,'Sector'] = 'Health Care'\n",
    "us_stocks.at[3050,'Sector'] = 'Consumer Discretionary'\n",
    "us_stocks.at[3058,'Sector'] = 'Health Care'\n",
    "us_stocks.at[3571,'Sector'] = 'Technology'\n",
    "us_stocks.at[3592,'Sector'] = 'Industrials'\n",
    "us_stocks.at[3621,'Sector'] = 'Consumer Discretionary'\n",
    "us_stocks.at[3692,'Sector'] = 'Utilities'\n",
    "us_stocks.at[3721,'Sector'] = 'Industrials'\n",
    "us_stocks.at[3758,'Sector'] = 'Industrials'\n",
    "us_stocks.at[3968,'Sector'] = 'Technology'\n",
    "us_stocks.at[3993,'Sector'] = 'Industrials'\n",
    "us_stocks.at[4186,'Sector'] = 'Industrials'\n",
    "us_stocks.at[4542,'Sector'] = 'Technology'\n",
    "us_stocks.at[4612,'Sector'] = 'Consumer Discretionary'\n",
    "us_stocks.at[4874,'Sector'] = 'Consumer Staples'\n",
    "us_stocks.at[4986,'Sector'] = 'Technology'\n",
    "us_stocks.at[5335,'Sector'] = 'Industrials'\n",
    "us_stocks.at[5456,'Sector'] = 'Technology'\n",
    "us_stocks.at[5625,'Sector'] = 'Consumer Discretionary'\n",
    "us_stocks.at[5716,'Sector'] = 'Consumer Discretionary'\n",
    "us_stocks.at[99,'Sector'] = 'Financials'\n",
    "us_stocks.at[121,'Sector'] = 'Financials'\n",
    "us_stocks.at[1286,'Sector'] = 'Energy'\n",
    "us_stocks.at[1593,'Sector'] = 'Utilities'\n",
    "us_stocks.at[2529,'Sector'] = 'Financials'\n",
    "us_stocks.at[3163,'Sector'] = 'Utilities'\n",
    "us_stocks.at[3296,'Sector'] = 'Financials'\n",
    "us_stocks.at[3297,'Sector'] = 'Financials'\n",
    "us_stocks.at[4018,'Sector'] = 'Utilities'\n",
    "us_stocks.at[4021,'Sector'] = 'Utilities'\n",
    "us_stocks.at[4022,'Sector'] = 'Financials'"
   ]
  },
  {
   "cell_type": "code",
   "execution_count": null,
   "metadata": {
    "collapsed": false,
    "is_executing": true
   },
   "outputs": [],
   "source": [
    "us_stocks[us_stocks['Sector'].isna() | us_stocks['Sector']=='Miscellaneous']  # This confirms that no ticker has a missing sector"
   ]
  },
  {
   "cell_type": "code",
   "execution_count": null,
   "metadata": {
    "collapsed": false,
    "is_executing": true
   },
   "outputs": [],
   "source": [
    "sectors = pd.Series(us_stocks.groupby('Sector').count().index)\n",
    "sectors"
   ]
  },
  {
   "cell_type": "code",
   "execution_count": null,
   "metadata": {
    "collapsed": false,
    "is_executing": true
   },
   "outputs": [],
   "source": [
    "# Rename sectors to GICS sector names\n",
    "us_stocks['Sector'].replace('Basic Materials','Materials', inplace=True)\n",
    "us_stocks['Sector'].replace('Health Care','Healthcare', inplace=True)\n",
    "us_stocks['Sector'].replace('Finance','Financials', inplace=True)\n",
    "us_stocks['Sector'].replace('Technology','Information Technology', inplace=True)\n",
    "us_stocks['Sector'].replace('Telecommunications','Communication Services', inplace=True)"
   ]
  },
  {
   "cell_type": "code",
   "execution_count": null,
   "metadata": {
    "collapsed": false,
    "is_executing": true
   },
   "outputs": [],
   "source": [
    "sectors = pd.Series(us_stocks.groupby('Sector').count().index)\n",
    "sectors "
   ]
  },
  {
   "cell_type": "code",
   "execution_count": null,
   "metadata": {
    "collapsed": false,
    "is_executing": true
   },
   "outputs": [],
   "source": [
    "# Rename sectors to their GICS names\n",
    "us_stocks['Sector'].replace('Consumer Cyclical','Consumer Discretionary', inplace=True)\n",
    "us_stocks['Sector'].replace('Consumer Defensive','Consumer Staples', inplace=True)\n",
    "us_stocks['Sector'].replace('Financial Services','Financials', inplace=True)\n",
    "us_stocks['Sector'].replace('Technology','Information Technology', inplace=True)\n",
    "us_stocks['Sector'].replace('Basic Materials','Materials', inplace=True)"
   ]
  },
  {
   "cell_type": "code",
   "execution_count": null,
   "metadata": {
    "collapsed": false,
    "is_executing": true
   },
   "outputs": [],
   "source": [
    "# Now to clean up the market capitalisation data\n",
    "us_stocks[us_stocks['Market Cap'].isna()]"
   ]
  },
  {
   "cell_type": "code",
   "execution_count": null,
   "metadata": {
    "collapsed": false,
    "is_executing": true
   },
   "outputs": [],
   "source": [
    "# To make things easier we're going to use the Market Cap of the stock today (instead of in 2022). This means the indexes won;t be entirely accurate, but they should be close enough\n",
    "# For the stocks with NaN Market Caps, we will try download market cap data from Yahoo Finance\n",
    "for i in range(len(us_stocks)):\n",
    "    if pd.isnull(us_stocks.iloc[i]['Market Cap']):\n",
    "\n",
    "        # get market cap from yahoo finance (if data exists)\n",
    "        stock_yf_data = yf.Ticker(str(us_stocks.iloc[i]['Symbol'])).info\n",
    "        if 'marketCap' in stock_yf_data.keys():\n",
    "            us_stocks.at[i,'Market Cap'] = stock_yf_data['marketCap']\n",
    "            continue\n",
    "\n",
    "        #if there's no data on yahoo finance, get average market cap of the sector\n",
    "        stock_sector = us_stocks.iloc[i]['Sector']\n",
    "        us_stocks.at[i,'Market Cap'] = us_stocks[us_stocks['Sector']==stock_sector]['Market Cap'].mean()"
   ]
  },
  {
   "cell_type": "markdown",
   "metadata": {
    "collapsed": false
   },
   "source": [
    "For testing purposes, `us_stocks`, I calculate the mean Market Cap:"
   ]
  },
  {
   "cell_type": "code",
   "execution_count": null,
   "metadata": {
    "collapsed": false,
    "is_executing": true
   },
   "outputs": [],
   "source": [
    "us_stocks[(us_stocks['Sector']=='Financials') & (~us_stocks['Market Cap'].isna())]['Market Cap'].mean() #the mean market capitalisation"
   ]
  },
  {
   "cell_type": "code",
   "execution_count": null,
   "metadata": {
    "collapsed": false,
    "is_executing": true
   },
   "outputs": [],
   "source": [
    "us_stocks.drop(['level_0','Unnamed: 0','index'],axis=1, inplace=True)"
   ]
  },
  {
   "cell_type": "markdown",
   "metadata": {
    "collapsed": false
   },
   "source": [
    "Any rows with missing items are dropped at this point - I haven't been able to find the data."
   ]
  },
  {
   "cell_type": "code",
   "execution_count": null,
   "metadata": {
    "collapsed": false,
    "is_executing": true
   },
   "outputs": [],
   "source": [
    "us_stocks.dropna(inplace=True)"
   ]
  },
  {
   "cell_type": "markdown",
   "metadata": {
    "collapsed": false
   },
   "source": [
    "### Starting off - building an S&P 500 Equal Weight Index, and S&P500 normal index"
   ]
  },
  {
   "cell_type": "markdown",
   "metadata": {
    "collapsed": false
   },
   "source": [
    "I start off with building an S&P500 Equal Weight Index (for simplicity). This is the S&P 500 index, but with each stock having an equal weighting in the index."
   ]
  },
  {
   "cell_type": "code",
   "execution_count": null,
   "metadata": {
    "collapsed": false,
    "is_executing": true
   },
   "outputs": [],
   "source": [
    "# Add a percentage change column to all stock csvs in stock_data, and drop unnecessary columns\n",
    "successful = []\n",
    "for i in us_stocks['Symbol']:\n",
    "    stock_data = pd.read_csv(f'stock_data/{i}.csv')\n",
    "    stock_data.drop(['Open','High','Low','Close','Volume'], axis=1, inplace=True)\n",
    "    stock_data['% change'] = stock_data['Adj Close'].pct_change()\n",
    "    stock_data.at[0,'% change'] = 0\n",
    "    stock_data.to_csv(f'stock_data/{i}.csv')\n",
    "    successful += [i]"
   ]
  },
  {
   "cell_type": "markdown",
   "metadata": {
    "collapsed": false
   },
   "source": [
    "For testing purposes, I plot the daily percentage change in Google's GOOG stock, for 2022:"
   ]
  },
  {
   "cell_type": "code",
   "execution_count": null,
   "metadata": {
    "collapsed": false,
    "is_executing": true
   },
   "outputs": [],
   "source": [
    "pd.read_csv('stock_data/GOOG.csv')['% change'].plot() # Google's daily returns plot"
   ]
  },
  {
   "cell_type": "markdown",
   "metadata": {
    "collapsed": false
   },
   "source": [
    "A dataframe of S&P 500 tickers is scraped from a wikipedia article:"
   ]
  },
  {
   "cell_type": "code",
   "execution_count": null,
   "metadata": {
    "collapsed": false,
    "is_executing": true
   },
   "outputs": [],
   "source": [
    "# Get dataframe of tickers in the S&P500 index\n",
    "snp_ticker_list = pd.read_html('https://en.wikipedia.org/wiki/List_of_S%26P_500_companies')[0][['Symbol']]"
   ]
  },
  {
   "cell_type": "code",
   "execution_count": null,
   "metadata": {
    "collapsed": false,
    "is_executing": true
   },
   "outputs": [],
   "source": [
    "snp_ticker_list['Symbol']"
   ]
  },
  {
   "cell_type": "markdown",
   "metadata": {
    "collapsed": false
   },
   "source": [
    "Then I isolate the S&P 500 tickers I managed to download (and managed to fill in missing data):"
   ]
  },
  {
   "cell_type": "code",
   "execution_count": null,
   "metadata": {
    "collapsed": false,
    "is_executing": true
   },
   "outputs": [],
   "source": [
    "exists = []\n",
    "for i in snp_ticker_list['Symbol']:\n",
    "    print(i)\n",
    "    if os.path.exists(f'stock_data/{i}.csv'):\n",
    "        exists += [i]"
   ]
  },
  {
   "cell_type": "code",
   "execution_count": null,
   "metadata": {
    "collapsed": false,
    "is_executing": true
   },
   "outputs": [],
   "source": [
    "# These are the tickers that are in the S&P500, but for some reason, had to be dropped. We will disregard these to make the project easier\n",
    "snp_ticker_list[~snp_ticker_list['Symbol'].isin(exists)]\n"
   ]
  },
  {
   "cell_type": "markdown",
   "metadata": {
    "collapsed": false
   },
   "source": [
    "`snp_weights` is a list of the tickers' relative weights. As this is an Equal Weight Index, each stock has an equal weighting:"
   ]
  },
  {
   "cell_type": "code",
   "execution_count": null,
   "metadata": {
    "collapsed": false,
    "is_executing": true
   },
   "outputs": [],
   "source": [
    "snp_weights = np.repeat(1/len(exists),len(exists)) # creating a list of weights, with each stock having equal weighting in this case"
   ]
  },
  {
   "cell_type": "markdown",
   "metadata": {
    "collapsed": false
   },
   "source": [
    "`snp_index` contains the daily returns of each stock in the index, on each trading day in 2022:"
   ]
  },
  {
   "cell_type": "code",
   "execution_count": null,
   "metadata": {
    "collapsed": false,
    "is_executing": true
   },
   "outputs": [],
   "source": [
    "snp_index = pd.DataFrame()\n",
    "for i in exists:\n",
    "    snp_index[i] = pd.read_csv(f'stock_data/{i}.csv')['% change']\n"
   ]
  },
  {
   "cell_type": "markdown",
   "metadata": {
    "collapsed": false
   },
   "source": [
    "The `index_returns` variable is added to `snp_index`, and this is the calculation of the index's returns on each trading day in 2022:"
   ]
  },
  {
   "cell_type": "code",
   "execution_count": null,
   "metadata": {
    "collapsed": false,
    "is_executing": true
   },
   "outputs": [],
   "source": [
    "snp_index['index_returns'] = snp_index.mul(snp_weights,axis=1).sum(axis=1)\n",
    "snp_index"
   ]
  },
  {
   "cell_type": "markdown",
   "metadata": {
    "collapsed": false
   },
   "source": [
    "The index returns are converted to cumulative returns to give the total returns through time"
   ]
  },
  {
   "cell_type": "code",
   "execution_count": null,
   "metadata": {
    "collapsed": false,
    "is_executing": true
   },
   "outputs": [],
   "source": [
    "snp_index['cumulative returns'] = ((1+snp_index['index_returns']).cumprod()-1)"
   ]
  },
  {
   "cell_type": "markdown",
   "metadata": {
    "collapsed": false
   },
   "source": [
    "And the result is plotted. The resulting plot is very similar to the actual S&P 500 EWI graph, indicating that the tickers that had to be excluded did not have a major effect on the final result."
   ]
  },
  {
   "cell_type": "code",
   "execution_count": null,
   "metadata": {
    "collapsed": false,
    "is_executing": true
   },
   "outputs": [],
   "source": [
    "snp_index['cumulative returns'].plot()\n",
    "# Quite close to actual graph but not perfect - year change is about 1 percentage point from the actual value"
   ]
  },
  {
   "cell_type": "markdown",
   "metadata": {
    "collapsed": false
   },
   "source": [
    "I then follow the same steps to create the actual S&P 500 (weighted) index:"
   ]
  },
  {
   "cell_type": "code",
   "execution_count": null,
   "metadata": {
    "collapsed": false,
    "is_executing": true
   },
   "outputs": [],
   "source": [
    "# To create a market cap weighted index\n",
    "snp_weights = []\n",
    "for i in exists:\n",
    "    mktcap = float(us_stocks[us_stocks['Symbol']==i]['Market Cap'])\n",
    "    snp_weights += [mktcap/us_stocks[us_stocks['Symbol'].isin(exists)]['Market Cap'].sum()]\n",
    "snp_index.drop(['index_returns','cumulative returns'], axis=1, inplace=True)\n",
    "snp_index['index_returns'] = snp_index.mul(snp_weights,axis=1).sum(axis=1)\n",
    "snp_index['cumulative returns'] = ((1+snp_index['index_returns']).cumprod()-1)\n",
    "snp_index['cumulative returns'].plot()"
   ]
  },
  {
   "cell_type": "code",
   "execution_count": null,
   "metadata": {
    "collapsed": false,
    "is_executing": true
   },
   "outputs": [],
   "source": [
    "snp_index['cumulative returns'].iloc[250] # actual return is -0.1944, so this one is about 2 percentage points from the actual"
   ]
  },
  {
   "cell_type": "markdown",
   "metadata": {
    "collapsed": false
   },
   "source": [
    "### Next Step: making an index of each industries in the US"
   ]
  },
  {
   "cell_type": "code",
   "execution_count": null,
   "metadata": {
    "collapsed": false,
    "is_executing": true
   },
   "outputs": [],
   "source": [
    "sectors"
   ]
  },
  {
   "cell_type": "code",
   "execution_count": null,
   "metadata": {
    "collapsed": false,
    "is_executing": true
   },
   "outputs": [],
   "source": [
    "# compute the different weights of each industry based on market capitalisation\n",
    "industry_weights = {}\n",
    "for i in sectors:\n",
    "    weights = []\n",
    "    industry_tickers = list(us_stocks[us_stocks['Sector'] == i]['Symbol'])\n",
    "\n",
    "    for j in industry_tickers:\n",
    "        market_cap = float(us_stocks[us_stocks['Symbol']==j]['Market Cap'])\n",
    "        weights += [market_cap/us_stocks[us_stocks['Symbol'].isin(industry_tickers)]['Market Cap'].sum()]\n",
    "    industry_weights[i] = weights"
   ]
  },
  {
   "cell_type": "code",
   "execution_count": null,
   "metadata": {
    "collapsed": false,
    "is_executing": true
   },
   "outputs": [],
   "source": [
    "# Compute the cumulative returns of all sectors\n",
    "industry_return_data = pd.DataFrame()\n",
    "for i in sectors:\n",
    "    return_data = pd.DataFrame()\n",
    "    industry_tickers = list(us_stocks[us_stocks['Sector'] == i]['Symbol'])\n",
    "    for j in industry_tickers:\n",
    "        return_data[j] = pd.read_csv(f'stock_data/{j}.csv')['% change']\n",
    "    return_data['index_returns'] = return_data.mul(industry_weights[i],axis=1).sum(axis=1)\n",
    "    return_data['cumulative returns'] = ((1+return_data['index_returns']).cumprod()-1)\n",
    "    industry_return_data[i] = return_data['cumulative returns'] # this is all we need. We can throw out the rest"
   ]
  },
  {
   "cell_type": "code",
   "execution_count": null,
   "metadata": {
    "collapsed": false,
    "is_executing": true
   },
   "outputs": [],
   "source": [
    "industry_return_data.plot()"
   ]
  },
  {
   "cell_type": "markdown",
   "metadata": {},
   "source": [
    "## Conclusion"
   ]
  }
 ],
 "metadata": {
  "kernelspec": {
   "display_name": "Python 3 (ipykernel)",
   "language": "python",
   "name": "python3"
  },
  "language_info": {
   "codemirror_mode": {
    "name": "ipython",
    "version": 3
   },
   "file_extension": ".py",
   "mimetype": "text/x-python",
   "name": "python",
   "nbconvert_exporter": "python",
   "pygments_lexer": "ipython3",
   "version": "3.10.12"
  }
 },
 "nbformat": 4,
 "nbformat_minor": 0
}
